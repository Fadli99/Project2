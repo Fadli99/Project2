{
 "cells": [
  {
   "cell_type": "markdown",
   "metadata": {
    "id": "ISBxzAoqNTWu"
   },
   "source": [
    "## Melakukan Crawling Twitter"
   ]
  },
  {
   "cell_type": "code",
   "execution_count": 3,
   "metadata": {
    "id": "v33z4DqQNR2E"
   },
   "outputs": [],
   "source": [
    "\"\"\"\n",
    "Created on Friday August 8 10:02:02 2021\n",
    "\n",
    "@author: Cango56\n",
    "\"\"\"\n",
    "\n",
    "\n",
    "import tweepy\n",
    "import pandas as pd\n",
    "from datetime import datetime\n",
    "\n",
    "\n",
    "auth = tweepy.auth.OAuthHandler('SOT6ju510FN30qKhky2GDJcsB',\n",
    "                                'rAbF5vPGEU0CrdaJYEtbo8HGHb5e0NdO0gopd5iC4AqAw05Yt0')\n",
    "\n",
    "auth.set_access_token('1243609331884531722-O9ertcKvEFGwcLTco5y7AZPq8rm0M3',\n",
    "                      'McXL9jiZLfdgk7k3wPb3imrJM8BK93lz14FFrhemF0wFS')\n",
    "\n",
    "api = tweepy.API(auth, wait_on_rate_limit=True)\n",
    "\n",
    "# List\n",
    "tweetan=[]\n",
    "tanggal=[]\n",
    "teks=[]\n",
    "Id=[]\n",
    "sn=[]\n",
    "source=[]\n",
    "rtc=[]\n",
    "rts=[]\n",
    "hashtag =[]\n",
    "\n",
    "#Looping mulai crawling data twitter\n",
    "for tweet in tweepy.Cursor(api.search,\n",
    "                           q = \"#UMKMSuburBuruhMakmur\",count=8000, #keyword untuk mencari tweet\n",
    "                           tweet_mode='extended', #kalo ga mode extend suka kepotong tweetnya keambil 180 char doang.\n",
    "                           since = \"2020-10-25\", #tanggal awal\n",
    "                           #until = \"\", #tanggal akhir ini ga di isi gamasalah, boleh juga kalo mau diisi\n",
    "                           lang = \"id\").items():\n",
    "                           \n",
    "#ini yg ditampilin di runningan jupyter\n",
    "#Metode append () menambahkan elemen ke akhir daftar\n",
    "    print(tweet.created_at, tweet.full_text)\n",
    "    tweetan.append(tweet)\n",
    "    tanggal.append(tweet.created_at) \n",
    "    teks.append(tweet.full_text.encode(\"utf-8\"))\n",
    "    Id.append(tweet.id)\n",
    "    sn.append(tweet.user.screen_name)\n",
    "    source.append(tweet.source)\n",
    "    rtc.append(tweet.retweet_count)\n",
    "    hashtag.append([x['text'] for x in tweet.entities['hashtags']])\n",
    "    if 'RT' in tweet.full_text :\n",
    "        rts.append(1)\n",
    "    else :\n",
    "        rts.append(0)\n",
    "    print(len(Id))\n",
    "    \n",
    "# nah ini di masukin ke file CSV\n",
    "data = pd.DataFrame()\n",
    "data['Tanggal']=tanggal\n",
    "data['Tweets']=teks\n",
    "data['ID']=Id\n",
    "data['Screen Name']=sn\n",
    "data['Retweet']=rtc\n",
    "data['Source']=source\n",
    "data['Retweet Status']=rts\n",
    "data['Hashtags'] = hashtag\n",
    "data.to_csv(f'Crawl Twitter {datetime.today().strftime(\"%Y-%m-%d\")}.csv', index=False)"
   ]
  },
  {
   "cell_type": "markdown",
   "metadata": {
    "id": "ev3zcu8BNbHa"
   },
   "source": [
    "# Import Library yang dibutuhkan untuk Melakukan Proses Text Preprocessing, Melakukan Uji Data Training & Testing serta Melakukan Proses Klasifikasi Data"
   ]
  },
  {
   "cell_type": "code",
   "execution_count": 2,
   "metadata": {
    "id": "DujzvwKh48ry"
   },
   "outputs": [],
   "source": [
    "import re\n",
    "import numpy as np\n",
    "import pandas as pd\n",
    "from sklearn import preprocessing, model_selection,svm\n",
    "from sklearn.feature_extraction.text import CountVectorizer, TfidfVectorizer\n",
    "from sklearn.metrics import accuracy_score\n",
    "import matplotlib\n",
    "from matplotlib import pyplot as plt\n",
    "%matplotlib inline\n",
    "%config InlineBackend.figure_format = 'retina'"
   ]
  },
  {
   "cell_type": "code",
   "execution_count": 3,
   "metadata": {
    "id": "LVVPHGIf48r0"
   },
   "outputs": [],
   "source": [
    "np.random.seed(300)"
   ]
  },
  {
   "cell_type": "code",
   "execution_count": 4,
   "metadata": {
    "id": "ycecpJk548r3",
    "outputId": "cc5c2549-7b33-40ab-9e88-42d17507c183"
   },
   "outputs": [
    {
     "data": {
      "text/html": [
       "<div>\n",
       "<style scoped>\n",
       "    .dataframe tbody tr th:only-of-type {\n",
       "        vertical-align: middle;\n",
       "    }\n",
       "\n",
       "    .dataframe tbody tr th {\n",
       "        vertical-align: top;\n",
       "    }\n",
       "\n",
       "    .dataframe thead th {\n",
       "        text-align: right;\n",
       "    }\n",
       "</style>\n",
       "<table border=\"1\" class=\"dataframe\">\n",
       "  <thead>\n",
       "    <tr style=\"text-align: right;\">\n",
       "      <th></th>\n",
       "      <th>Tanggal</th>\n",
       "      <th>Tweets</th>\n",
       "      <th>ID</th>\n",
       "      <th>Screen Name</th>\n",
       "      <th>Retweet</th>\n",
       "      <th>Source</th>\n",
       "      <th>Retweet_Status</th>\n",
       "      <th>Hashtags</th>\n",
       "      <th>Sentiment</th>\n",
       "      <th>Negatif</th>\n",
       "      <th>Positif</th>\n",
       "    </tr>\n",
       "  </thead>\n",
       "  <tbody>\n",
       "    <tr>\n",
       "      <th>0</th>\n",
       "      <td>11/4/2020 12:44</td>\n",
       "      <td>b'@Ch_Chotlmah Hahaha\\n\\n#UMKMSuburBuruhMakmur...</td>\n",
       "      <td>1.320000e+18</td>\n",
       "      <td>SariMita10</td>\n",
       "      <td>0</td>\n",
       "      <td>Twitter for Android</td>\n",
       "      <td>0</td>\n",
       "      <td>['UMKMSuburBuruhMakmur']</td>\n",
       "      <td>negatif</td>\n",
       "      <td>1</td>\n",
       "      <td>0</td>\n",
       "    </tr>\n",
       "    <tr>\n",
       "      <th>1</th>\n",
       "      <td>11/4/2020 12:42</td>\n",
       "      <td>b'@tjhinfar21 @Nouna_jessica19 Kami mendukung\\...</td>\n",
       "      <td>1.320000e+18</td>\n",
       "      <td>SariMita10</td>\n",
       "      <td>0</td>\n",
       "      <td>Twitter for Android</td>\n",
       "      <td>0</td>\n",
       "      <td>['UMKMSuburBuruhMakmur']</td>\n",
       "      <td>negatif</td>\n",
       "      <td>1</td>\n",
       "      <td>0</td>\n",
       "    </tr>\n",
       "    <tr>\n",
       "      <th>2</th>\n",
       "      <td>11/4/2020 12:41</td>\n",
       "      <td>b'@adapawin Mantap\\n\\n#UMKMSuburBuruhMakmur\\nP...</td>\n",
       "      <td>1.320000e+18</td>\n",
       "      <td>SariMita10</td>\n",
       "      <td>0</td>\n",
       "      <td>Twitter for Android</td>\n",
       "      <td>0</td>\n",
       "      <td>['UMKMSuburBuruhMakmur']</td>\n",
       "      <td>negatif</td>\n",
       "      <td>1</td>\n",
       "      <td>0</td>\n",
       "    </tr>\n",
       "    <tr>\n",
       "      <th>3</th>\n",
       "      <td>11/4/2020 12:35</td>\n",
       "      <td>b'@Chaterinee_08 Siap\\n\\n#UMKMSuburBuruhMakmur...</td>\n",
       "      <td>1.320000e+18</td>\n",
       "      <td>Suryono46350704</td>\n",
       "      <td>0</td>\n",
       "      <td>Twitter for Android</td>\n",
       "      <td>0</td>\n",
       "      <td>['UMKMSuburBuruhMakmur']</td>\n",
       "      <td>negatif</td>\n",
       "      <td>1</td>\n",
       "      <td>0</td>\n",
       "    </tr>\n",
       "    <tr>\n",
       "      <th>4</th>\n",
       "      <td>11/4/2020 12:34</td>\n",
       "      <td>b'@Chaterinee_08 Setuju\\n\\n#UMKMSuburBuruhMakm...</td>\n",
       "      <td>1.320000e+18</td>\n",
       "      <td>Suryono46350704</td>\n",
       "      <td>0</td>\n",
       "      <td>Twitter for Android</td>\n",
       "      <td>0</td>\n",
       "      <td>['UMKMSuburBuruhMakmur']</td>\n",
       "      <td>negatif</td>\n",
       "      <td>1</td>\n",
       "      <td>0</td>\n",
       "    </tr>\n",
       "    <tr>\n",
       "      <th>5</th>\n",
       "      <td>11/4/2020 12:33</td>\n",
       "      <td>b'@AirinAirin_NZ #UMKMSuburBuruhMakmur\\nPatuh ...</td>\n",
       "      <td>1.320000e+18</td>\n",
       "      <td>Suryono46350704</td>\n",
       "      <td>0</td>\n",
       "      <td>Twitter for Android</td>\n",
       "      <td>0</td>\n",
       "      <td>['UMKMSuburBuruhMakmur']</td>\n",
       "      <td>negatif</td>\n",
       "      <td>1</td>\n",
       "      <td>0</td>\n",
       "    </tr>\n",
       "    <tr>\n",
       "      <th>6</th>\n",
       "      <td>11/3/2020 14:53</td>\n",
       "      <td>b'Ya Allahhhh....\\nUndang-Undang untuk seluruh...</td>\n",
       "      <td>1.320000e+18</td>\n",
       "      <td>Hang_Tuah_</td>\n",
       "      <td>0</td>\n",
       "      <td>Twitter for Android</td>\n",
       "      <td>0</td>\n",
       "      <td>['PemudaBangkitLawanRezim', 'MosiTidakPercaya'...</td>\n",
       "      <td>negatif</td>\n",
       "      <td>1</td>\n",
       "      <td>0</td>\n",
       "    </tr>\n",
       "    <tr>\n",
       "      <th>7</th>\n",
       "      <td>11/3/2020 14:25</td>\n",
       "      <td>b'Presiden @jokowi selalu bertindak cepat apal...</td>\n",
       "      <td>1.320000e+18</td>\n",
       "      <td>FaridBONCELL</td>\n",
       "      <td>2</td>\n",
       "      <td>Twitter for Android</td>\n",
       "      <td>0</td>\n",
       "      <td>['OmnibusProRakyat', 'OmnibusBeriManfaatBaik',...</td>\n",
       "      <td>negatif</td>\n",
       "      <td>1</td>\n",
       "      <td>0</td>\n",
       "    </tr>\n",
       "    <tr>\n",
       "      <th>8</th>\n",
       "      <td>11/3/2020 13:23</td>\n",
       "      <td>b'Malam, saya lagi ada promo diskon Night Sale...</td>\n",
       "      <td>1.320000e+18</td>\n",
       "      <td>DapurGita_CS</td>\n",
       "      <td>0</td>\n",
       "      <td>Twitter for Android</td>\n",
       "      <td>0</td>\n",
       "      <td>['diskon', 'promomakanan', 'UMKMSuburBuruhMakm...</td>\n",
       "      <td>negatif</td>\n",
       "      <td>1</td>\n",
       "      <td>0</td>\n",
       "    </tr>\n",
       "    <tr>\n",
       "      <th>9</th>\n",
       "      <td>11/3/2020 6:21</td>\n",
       "      <td>b'RT @Ranisor: Jangan Abai Prokes Kovid\\n#UMKM...</td>\n",
       "      <td>1.320000e+18</td>\n",
       "      <td>IrulGonjor01</td>\n",
       "      <td>8</td>\n",
       "      <td>Twitter for Android</td>\n",
       "      <td>1</td>\n",
       "      <td>['UMKMSuburBuruhMakmur']</td>\n",
       "      <td>negatif</td>\n",
       "      <td>1</td>\n",
       "      <td>0</td>\n",
       "    </tr>\n",
       "  </tbody>\n",
       "</table>\n",
       "</div>"
      ],
      "text/plain": [
       "           Tanggal                                             Tweets  \\\n",
       "0  11/4/2020 12:44  b'@Ch_Chotlmah Hahaha\\n\\n#UMKMSuburBuruhMakmur...   \n",
       "1  11/4/2020 12:42  b'@tjhinfar21 @Nouna_jessica19 Kami mendukung\\...   \n",
       "2  11/4/2020 12:41  b'@adapawin Mantap\\n\\n#UMKMSuburBuruhMakmur\\nP...   \n",
       "3  11/4/2020 12:35  b'@Chaterinee_08 Siap\\n\\n#UMKMSuburBuruhMakmur...   \n",
       "4  11/4/2020 12:34  b'@Chaterinee_08 Setuju\\n\\n#UMKMSuburBuruhMakm...   \n",
       "5  11/4/2020 12:33  b'@AirinAirin_NZ #UMKMSuburBuruhMakmur\\nPatuh ...   \n",
       "6  11/3/2020 14:53  b'Ya Allahhhh....\\nUndang-Undang untuk seluruh...   \n",
       "7  11/3/2020 14:25  b'Presiden @jokowi selalu bertindak cepat apal...   \n",
       "8  11/3/2020 13:23  b'Malam, saya lagi ada promo diskon Night Sale...   \n",
       "9   11/3/2020 6:21  b'RT @Ranisor: Jangan Abai Prokes Kovid\\n#UMKM...   \n",
       "\n",
       "             ID      Screen Name  Retweet               Source  \\\n",
       "0  1.320000e+18       SariMita10        0  Twitter for Android   \n",
       "1  1.320000e+18       SariMita10        0  Twitter for Android   \n",
       "2  1.320000e+18       SariMita10        0  Twitter for Android   \n",
       "3  1.320000e+18  Suryono46350704        0  Twitter for Android   \n",
       "4  1.320000e+18  Suryono46350704        0  Twitter for Android   \n",
       "5  1.320000e+18  Suryono46350704        0  Twitter for Android   \n",
       "6  1.320000e+18       Hang_Tuah_        0  Twitter for Android   \n",
       "7  1.320000e+18     FaridBONCELL        2  Twitter for Android   \n",
       "8  1.320000e+18     DapurGita_CS        0  Twitter for Android   \n",
       "9  1.320000e+18     IrulGonjor01        8  Twitter for Android   \n",
       "\n",
       "   Retweet_Status                                           Hashtags  \\\n",
       "0               0                           ['UMKMSuburBuruhMakmur']   \n",
       "1               0                           ['UMKMSuburBuruhMakmur']   \n",
       "2               0                           ['UMKMSuburBuruhMakmur']   \n",
       "3               0                           ['UMKMSuburBuruhMakmur']   \n",
       "4               0                           ['UMKMSuburBuruhMakmur']   \n",
       "5               0                           ['UMKMSuburBuruhMakmur']   \n",
       "6               0  ['PemudaBangkitLawanRezim', 'MosiTidakPercaya'...   \n",
       "7               0  ['OmnibusProRakyat', 'OmnibusBeriManfaatBaik',...   \n",
       "8               0  ['diskon', 'promomakanan', 'UMKMSuburBuruhMakm...   \n",
       "9               1                           ['UMKMSuburBuruhMakmur']   \n",
       "\n",
       "  Sentiment  Negatif  Positif  \n",
       "0   negatif        1        0  \n",
       "1   negatif        1        0  \n",
       "2   negatif        1        0  \n",
       "3   negatif        1        0  \n",
       "4   negatif        1        0  \n",
       "5   negatif        1        0  \n",
       "6   negatif        1        0  \n",
       "7   negatif        1        0  \n",
       "8   negatif        1        0  \n",
       "9   negatif        1        0  "
      ]
     },
     "execution_count": 4,
     "metadata": {},
     "output_type": "execute_result"
    }
   ],
   "source": [
    "data = pd.read_csv(\"DatasetCrawlingTwitter.csv\", encoding='latin-1')\n",
    "data.head(10)"
   ]
  },
  {
   "cell_type": "code",
   "execution_count": 5,
   "metadata": {
    "id": "vo46xbtB48r6",
    "outputId": "3e7a4711-6cd2-4a7b-bca0-33c6bff79fdd"
   },
   "outputs": [
    {
     "data": {
      "text/html": [
       "<div>\n",
       "<style scoped>\n",
       "    .dataframe tbody tr th:only-of-type {\n",
       "        vertical-align: middle;\n",
       "    }\n",
       "\n",
       "    .dataframe tbody tr th {\n",
       "        vertical-align: top;\n",
       "    }\n",
       "\n",
       "    .dataframe thead th {\n",
       "        text-align: right;\n",
       "    }\n",
       "</style>\n",
       "<table border=\"1\" class=\"dataframe\">\n",
       "  <thead>\n",
       "    <tr style=\"text-align: right;\">\n",
       "      <th></th>\n",
       "      <th>ID</th>\n",
       "      <th>Retweet</th>\n",
       "      <th>Retweet_Status</th>\n",
       "      <th>Negatif</th>\n",
       "      <th>Positif</th>\n",
       "    </tr>\n",
       "  </thead>\n",
       "  <tbody>\n",
       "    <tr>\n",
       "      <th>count</th>\n",
       "      <td>8.223000e+03</td>\n",
       "      <td>8223.000000</td>\n",
       "      <td>8223.000000</td>\n",
       "      <td>8223.000000</td>\n",
       "      <td>8223.000000</td>\n",
       "    </tr>\n",
       "    <tr>\n",
       "      <th>mean</th>\n",
       "      <td>1.320000e+18</td>\n",
       "      <td>16.014715</td>\n",
       "      <td>0.625441</td>\n",
       "      <td>0.297823</td>\n",
       "      <td>0.702177</td>\n",
       "    </tr>\n",
       "    <tr>\n",
       "      <th>std</th>\n",
       "      <td>2.050685e+05</td>\n",
       "      <td>24.067981</td>\n",
       "      <td>0.484038</td>\n",
       "      <td>0.457329</td>\n",
       "      <td>0.457329</td>\n",
       "    </tr>\n",
       "    <tr>\n",
       "      <th>min</th>\n",
       "      <td>1.320000e+18</td>\n",
       "      <td>0.000000</td>\n",
       "      <td>0.000000</td>\n",
       "      <td>0.000000</td>\n",
       "      <td>0.000000</td>\n",
       "    </tr>\n",
       "    <tr>\n",
       "      <th>25%</th>\n",
       "      <td>1.320000e+18</td>\n",
       "      <td>0.000000</td>\n",
       "      <td>0.000000</td>\n",
       "      <td>0.000000</td>\n",
       "      <td>0.000000</td>\n",
       "    </tr>\n",
       "    <tr>\n",
       "      <th>50%</th>\n",
       "      <td>1.320000e+18</td>\n",
       "      <td>6.000000</td>\n",
       "      <td>1.000000</td>\n",
       "      <td>0.000000</td>\n",
       "      <td>1.000000</td>\n",
       "    </tr>\n",
       "    <tr>\n",
       "      <th>75%</th>\n",
       "      <td>1.320000e+18</td>\n",
       "      <td>23.000000</td>\n",
       "      <td>1.000000</td>\n",
       "      <td>1.000000</td>\n",
       "      <td>1.000000</td>\n",
       "    </tr>\n",
       "    <tr>\n",
       "      <th>max</th>\n",
       "      <td>1.320000e+18</td>\n",
       "      <td>138.000000</td>\n",
       "      <td>1.000000</td>\n",
       "      <td>1.000000</td>\n",
       "      <td>1.000000</td>\n",
       "    </tr>\n",
       "  </tbody>\n",
       "</table>\n",
       "</div>"
      ],
      "text/plain": [
       "                 ID      Retweet  Retweet_Status      Negatif      Positif\n",
       "count  8.223000e+03  8223.000000     8223.000000  8223.000000  8223.000000\n",
       "mean   1.320000e+18    16.014715        0.625441     0.297823     0.702177\n",
       "std    2.050685e+05    24.067981        0.484038     0.457329     0.457329\n",
       "min    1.320000e+18     0.000000        0.000000     0.000000     0.000000\n",
       "25%    1.320000e+18     0.000000        0.000000     0.000000     0.000000\n",
       "50%    1.320000e+18     6.000000        1.000000     0.000000     1.000000\n",
       "75%    1.320000e+18    23.000000        1.000000     1.000000     1.000000\n",
       "max    1.320000e+18   138.000000        1.000000     1.000000     1.000000"
      ]
     },
     "execution_count": 5,
     "metadata": {},
     "output_type": "execute_result"
    }
   ],
   "source": [
    "data.describe()"
   ]
  },
  {
   "cell_type": "markdown",
   "metadata": {
    "id": "sTkazAFUN8wy"
   },
   "source": [
    "# Proses Text Processing "
   ]
  },
  {
   "cell_type": "code",
   "execution_count": 6,
   "metadata": {
    "id": "TjybIqPL48r-"
   },
   "outputs": [],
   "source": [
    "import re\n",
    "from bs4 import BeautifulSoup\n",
    "from nltk.tokenize import WordPunctTokenizer\n",
    "\n",
    "tok = WordPunctTokenizer()\n",
    "pat1 = r'@[A-Za-z0-9_]+' #menghilangkan username \n",
    "pat2 = r'https?://[^ ]+' #menghilangkan situs website\n",
    "combined_pat = r'|'.join((pat1, pat2)) #join pat1 dan pat 2\n",
    "www_pat = r'www.[^ ]+' #menghilangkan situs website\n",
    "\n",
    "#set_stopword yang di deskripsikan sendiri\n",
    "stopword_user = set(pd.read_csv('DatasetCrawlingTwitter.csv', sep='\\n', header=0))"
   ]
  },
  {
   "cell_type": "code",
   "execution_count": 7,
   "metadata": {
    "id": "O1irwWIm48sA"
   },
   "outputs": [],
   "source": [
    "def proses_teks(teks):\n",
    "    soup = BeautifulSoup(teks, 'lxml')\n",
    "    souped = soup.get_text()\n",
    "    try:\n",
    "        teks = souped.decode(\"utf-8-sig\").replace(u\"\\ufffd\", \"?\")\n",
    "    except:\n",
    "        teks = souped\n",
    "    teks_bersih= re.sub(\"[^a-zA-Z0-9]\", \" \",(re.sub(www_pat, '', re.sub(combined_pat, '', teks)).lower()))\n",
    "    teks_bersih= ' '.join([word for word in teks_bersih.split() if word not in stopword_user])\n",
    "    return (\" \".join([x for x in tok.tokenize(teks_bersih) if len(x) > 1])).strip()"
   ]
  },
  {
   "cell_type": "code",
   "execution_count": 8,
   "metadata": {
    "id": "sCy3g5zx48sD"
   },
   "outputs": [],
   "source": [
    "x=[]\n",
    "for teks in data.Tweets:\n",
    "    x.append(proses_teks(teks))"
   ]
  },
  {
   "cell_type": "code",
   "execution_count": 9,
   "metadata": {
    "id": "uzXCIUQk48sF"
   },
   "outputs": [],
   "source": [
    "clean_text=pd.DataFrame({'Clean_Tweets':x})"
   ]
  },
  {
   "cell_type": "code",
   "execution_count": 10,
   "metadata": {
    "id": "YJpeKdwm48sH"
   },
   "outputs": [],
   "source": [
    "data=pd.concat([data,clean_text],axis=1)"
   ]
  },
  {
   "cell_type": "code",
   "execution_count": 11,
   "metadata": {
    "id": "N-AjVU3A48sJ",
    "outputId": "88f7256b-f322-4aca-9c29-1dea155a0a8d"
   },
   "outputs": [
    {
     "data": {
      "text/html": [
       "<div>\n",
       "<style scoped>\n",
       "    .dataframe tbody tr th:only-of-type {\n",
       "        vertical-align: middle;\n",
       "    }\n",
       "\n",
       "    .dataframe tbody tr th {\n",
       "        vertical-align: top;\n",
       "    }\n",
       "\n",
       "    .dataframe thead th {\n",
       "        text-align: right;\n",
       "    }\n",
       "</style>\n",
       "<table border=\"1\" class=\"dataframe\">\n",
       "  <thead>\n",
       "    <tr style=\"text-align: right;\">\n",
       "      <th></th>\n",
       "      <th>Tanggal</th>\n",
       "      <th>Tweets</th>\n",
       "      <th>ID</th>\n",
       "      <th>Screen Name</th>\n",
       "      <th>Retweet</th>\n",
       "      <th>Source</th>\n",
       "      <th>Retweet_Status</th>\n",
       "      <th>Hashtags</th>\n",
       "      <th>Sentiment</th>\n",
       "      <th>Negatif</th>\n",
       "      <th>Positif</th>\n",
       "      <th>Clean_Tweets</th>\n",
       "    </tr>\n",
       "  </thead>\n",
       "  <tbody>\n",
       "    <tr>\n",
       "      <th>0</th>\n",
       "      <td>11/4/2020 12:44</td>\n",
       "      <td>b'@Ch_Chotlmah Hahaha\\n\\n#UMKMSuburBuruhMakmur...</td>\n",
       "      <td>1.320000e+18</td>\n",
       "      <td>SariMita10</td>\n",
       "      <td>0</td>\n",
       "      <td>Twitter for Android</td>\n",
       "      <td>0</td>\n",
       "      <td>['UMKMSuburBuruhMakmur']</td>\n",
       "      <td>negatif</td>\n",
       "      <td>1</td>\n",
       "      <td>0</td>\n",
       "      <td>hahaha umkmsuburburuhmakmur npatuh prokes agar...</td>\n",
       "    </tr>\n",
       "    <tr>\n",
       "      <th>1</th>\n",
       "      <td>11/4/2020 12:42</td>\n",
       "      <td>b'@tjhinfar21 @Nouna_jessica19 Kami mendukung\\...</td>\n",
       "      <td>1.320000e+18</td>\n",
       "      <td>SariMita10</td>\n",
       "      <td>0</td>\n",
       "      <td>Twitter for Android</td>\n",
       "      <td>0</td>\n",
       "      <td>['UMKMSuburBuruhMakmur']</td>\n",
       "      <td>negatif</td>\n",
       "      <td>1</td>\n",
       "      <td>0</td>\n",
       "      <td>kami mendukung umkmsuburburuhmakmur npatuh pro...</td>\n",
       "    </tr>\n",
       "    <tr>\n",
       "      <th>2</th>\n",
       "      <td>11/4/2020 12:41</td>\n",
       "      <td>b'@adapawin Mantap\\n\\n#UMKMSuburBuruhMakmur\\nP...</td>\n",
       "      <td>1.320000e+18</td>\n",
       "      <td>SariMita10</td>\n",
       "      <td>0</td>\n",
       "      <td>Twitter for Android</td>\n",
       "      <td>0</td>\n",
       "      <td>['UMKMSuburBuruhMakmur']</td>\n",
       "      <td>negatif</td>\n",
       "      <td>1</td>\n",
       "      <td>0</td>\n",
       "      <td>mantap umkmsuburburuhmakmur npatuh prokes agar...</td>\n",
       "    </tr>\n",
       "    <tr>\n",
       "      <th>3</th>\n",
       "      <td>11/4/2020 12:35</td>\n",
       "      <td>b'@Chaterinee_08 Siap\\n\\n#UMKMSuburBuruhMakmur...</td>\n",
       "      <td>1.320000e+18</td>\n",
       "      <td>Suryono46350704</td>\n",
       "      <td>0</td>\n",
       "      <td>Twitter for Android</td>\n",
       "      <td>0</td>\n",
       "      <td>['UMKMSuburBuruhMakmur']</td>\n",
       "      <td>negatif</td>\n",
       "      <td>1</td>\n",
       "      <td>0</td>\n",
       "      <td>siap umkmsuburburuhmakmur npatuh prokes agar s...</td>\n",
       "    </tr>\n",
       "    <tr>\n",
       "      <th>4</th>\n",
       "      <td>11/4/2020 12:34</td>\n",
       "      <td>b'@Chaterinee_08 Setuju\\n\\n#UMKMSuburBuruhMakm...</td>\n",
       "      <td>1.320000e+18</td>\n",
       "      <td>Suryono46350704</td>\n",
       "      <td>0</td>\n",
       "      <td>Twitter for Android</td>\n",
       "      <td>0</td>\n",
       "      <td>['UMKMSuburBuruhMakmur']</td>\n",
       "      <td>negatif</td>\n",
       "      <td>1</td>\n",
       "      <td>0</td>\n",
       "      <td>setuju umkmsuburburuhmakmur npatuh prokes agar...</td>\n",
       "    </tr>\n",
       "    <tr>\n",
       "      <th>...</th>\n",
       "      <td>...</td>\n",
       "      <td>...</td>\n",
       "      <td>...</td>\n",
       "      <td>...</td>\n",
       "      <td>...</td>\n",
       "      <td>...</td>\n",
       "      <td>...</td>\n",
       "      <td>...</td>\n",
       "      <td>...</td>\n",
       "      <td>...</td>\n",
       "      <td>...</td>\n",
       "      <td>...</td>\n",
       "    </tr>\n",
       "    <tr>\n",
       "      <th>95</th>\n",
       "      <td>11/1/2020 15:33</td>\n",
       "      <td>b'Pemerintahan dibawah kepemimpinan Presiden @...</td>\n",
       "      <td>1.320000e+18</td>\n",
       "      <td>AbuZamzamm</td>\n",
       "      <td>0</td>\n",
       "      <td>Twitter for Android</td>\n",
       "      <td>0</td>\n",
       "      <td>['UMKMSuburBuruhMakmur']</td>\n",
       "      <td>negatif</td>\n",
       "      <td>1</td>\n",
       "      <td>0</td>\n",
       "      <td>pemerintahan dibawah kepemimpinan presiden tel...</td>\n",
       "    </tr>\n",
       "    <tr>\n",
       "      <th>96</th>\n",
       "      <td>11/1/2020 15:22</td>\n",
       "      <td>b'RT @Pencerah__: Ketika @SBYudhoyono 10 tahun...</td>\n",
       "      <td>1.320000e+18</td>\n",
       "      <td>pengagumpakde</td>\n",
       "      <td>51</td>\n",
       "      <td>Twitter for Android</td>\n",
       "      <td>1</td>\n",
       "      <td>[]</td>\n",
       "      <td>negatif</td>\n",
       "      <td>1</td>\n",
       "      <td>0</td>\n",
       "      <td>rt ketika 10 tahun menjadi presiden bpk menemu...</td>\n",
       "    </tr>\n",
       "    <tr>\n",
       "      <th>97</th>\n",
       "      <td>11/1/2020 15:20</td>\n",
       "      <td>b'RT @jr_kw19: Miris! Pimpinan UI Prof Oca yg ...</td>\n",
       "      <td>1.320000e+18</td>\n",
       "      <td>fandy18058347</td>\n",
       "      <td>138</td>\n",
       "      <td>Twitter for iPhone</td>\n",
       "      <td>1</td>\n",
       "      <td>[]</td>\n",
       "      <td>negatif</td>\n",
       "      <td>1</td>\n",
       "      <td>0</td>\n",
       "      <td>rt miris pimpinan ui prof oca yg selama ini ny...</td>\n",
       "    </tr>\n",
       "    <tr>\n",
       "      <th>98</th>\n",
       "      <td>11/1/2020 15:16</td>\n",
       "      <td>b'RT @Rizmaya__: Kasihan penggemar Anies kejan...</td>\n",
       "      <td>1.320000e+18</td>\n",
       "      <td>LiyantoDoni</td>\n",
       "      <td>46</td>\n",
       "      <td>Twitter for Android</td>\n",
       "      <td>1</td>\n",
       "      <td>['UMKMSuburBuruhMakmur']</td>\n",
       "      <td>negatif</td>\n",
       "      <td>1</td>\n",
       "      <td>0</td>\n",
       "      <td>rt kasihan penggemar anies kejang kejang xf0 x...</td>\n",
       "    </tr>\n",
       "    <tr>\n",
       "      <th>99</th>\n",
       "      <td>11/1/2020 15:12</td>\n",
       "      <td>b'Wakil Ketua DPR RI Azis Syamsuddin mengataka...</td>\n",
       "      <td>1.320000e+18</td>\n",
       "      <td>AbuZamzamm</td>\n",
       "      <td>0</td>\n",
       "      <td>Twitter for Android</td>\n",
       "      <td>0</td>\n",
       "      <td>['UMKMSuburBuruhMakmur']</td>\n",
       "      <td>negatif</td>\n",
       "      <td>1</td>\n",
       "      <td>0</td>\n",
       "      <td>wakil ketua dpr ri azis syamsuddin mengatakan ...</td>\n",
       "    </tr>\n",
       "  </tbody>\n",
       "</table>\n",
       "<p>100 rows × 12 columns</p>\n",
       "</div>"
      ],
      "text/plain": [
       "            Tanggal                                             Tweets  \\\n",
       "0   11/4/2020 12:44  b'@Ch_Chotlmah Hahaha\\n\\n#UMKMSuburBuruhMakmur...   \n",
       "1   11/4/2020 12:42  b'@tjhinfar21 @Nouna_jessica19 Kami mendukung\\...   \n",
       "2   11/4/2020 12:41  b'@adapawin Mantap\\n\\n#UMKMSuburBuruhMakmur\\nP...   \n",
       "3   11/4/2020 12:35  b'@Chaterinee_08 Siap\\n\\n#UMKMSuburBuruhMakmur...   \n",
       "4   11/4/2020 12:34  b'@Chaterinee_08 Setuju\\n\\n#UMKMSuburBuruhMakm...   \n",
       "..              ...                                                ...   \n",
       "95  11/1/2020 15:33  b'Pemerintahan dibawah kepemimpinan Presiden @...   \n",
       "96  11/1/2020 15:22  b'RT @Pencerah__: Ketika @SBYudhoyono 10 tahun...   \n",
       "97  11/1/2020 15:20  b'RT @jr_kw19: Miris! Pimpinan UI Prof Oca yg ...   \n",
       "98  11/1/2020 15:16  b'RT @Rizmaya__: Kasihan penggemar Anies kejan...   \n",
       "99  11/1/2020 15:12  b'Wakil Ketua DPR RI Azis Syamsuddin mengataka...   \n",
       "\n",
       "              ID      Screen Name  Retweet               Source  \\\n",
       "0   1.320000e+18       SariMita10        0  Twitter for Android   \n",
       "1   1.320000e+18       SariMita10        0  Twitter for Android   \n",
       "2   1.320000e+18       SariMita10        0  Twitter for Android   \n",
       "3   1.320000e+18  Suryono46350704        0  Twitter for Android   \n",
       "4   1.320000e+18  Suryono46350704        0  Twitter for Android   \n",
       "..           ...              ...      ...                  ...   \n",
       "95  1.320000e+18       AbuZamzamm        0  Twitter for Android   \n",
       "96  1.320000e+18    pengagumpakde       51  Twitter for Android   \n",
       "97  1.320000e+18    fandy18058347      138   Twitter for iPhone   \n",
       "98  1.320000e+18      LiyantoDoni       46  Twitter for Android   \n",
       "99  1.320000e+18       AbuZamzamm        0  Twitter for Android   \n",
       "\n",
       "    Retweet_Status                  Hashtags Sentiment  Negatif  Positif  \\\n",
       "0                0  ['UMKMSuburBuruhMakmur']   negatif        1        0   \n",
       "1                0  ['UMKMSuburBuruhMakmur']   negatif        1        0   \n",
       "2                0  ['UMKMSuburBuruhMakmur']   negatif        1        0   \n",
       "3                0  ['UMKMSuburBuruhMakmur']   negatif        1        0   \n",
       "4                0  ['UMKMSuburBuruhMakmur']   negatif        1        0   \n",
       "..             ...                       ...       ...      ...      ...   \n",
       "95               0  ['UMKMSuburBuruhMakmur']   negatif        1        0   \n",
       "96               1                        []   negatif        1        0   \n",
       "97               1                        []   negatif        1        0   \n",
       "98               1  ['UMKMSuburBuruhMakmur']   negatif        1        0   \n",
       "99               0  ['UMKMSuburBuruhMakmur']   negatif        1        0   \n",
       "\n",
       "                                         Clean_Tweets  \n",
       "0   hahaha umkmsuburburuhmakmur npatuh prokes agar...  \n",
       "1   kami mendukung umkmsuburburuhmakmur npatuh pro...  \n",
       "2   mantap umkmsuburburuhmakmur npatuh prokes agar...  \n",
       "3   siap umkmsuburburuhmakmur npatuh prokes agar s...  \n",
       "4   setuju umkmsuburburuhmakmur npatuh prokes agar...  \n",
       "..                                                ...  \n",
       "95  pemerintahan dibawah kepemimpinan presiden tel...  \n",
       "96  rt ketika 10 tahun menjadi presiden bpk menemu...  \n",
       "97  rt miris pimpinan ui prof oca yg selama ini ny...  \n",
       "98  rt kasihan penggemar anies kejang kejang xf0 x...  \n",
       "99  wakil ketua dpr ri azis syamsuddin mengatakan ...  \n",
       "\n",
       "[100 rows x 12 columns]"
      ]
     },
     "execution_count": 11,
     "metadata": {},
     "output_type": "execute_result"
    }
   ],
   "source": [
    "data.head(100)"
   ]
  },
  {
   "cell_type": "markdown",
   "metadata": {
    "id": "4nSjU7ouOD7n"
   },
   "source": [
    "# Proses Lihat Data Sentiment \"Positif\" & \"Negatif\""
   ]
  },
  {
   "cell_type": "code",
   "execution_count": 12,
   "metadata": {
    "id": "ERc4ODSO48sL",
    "outputId": "5ce83a18-9c57-45f0-acfd-45863017d1ec"
   },
   "outputs": [
    {
     "data": {
      "image/png": "[encoded data removed]",
      "text/plain": [
       "<Figure size 432x288 with 1 Axes>"
      ]
     },
     "metadata": {
      "image/png": {
       "height": 263,
       "width": 395
      },
      "needs_background": "light"
     },
     "output_type": "display_data"
    }
   ],
   "source": [
    "positif_len = data[data['Positif']==1].shape[0]\n",
    "negatif_len = data[data['Negatif']==1].shape[0]\n",
    "plt.bar(10,positif_len,3,label=\"Positif\")\n",
    "plt.bar(15,negatif_len,3,label=\"Negatif\")\n",
    "plt.legend()\n",
    "plt.ylabel('Jumlah')\n",
    "plt.title('Sentiment')\n",
    "plt.show()"
   ]
  },
  {
   "cell_type": "code",
   "execution_count": 13,
   "metadata": {
    "id": "sgHIsh1D48sN"
   },
   "outputs": [],
   "source": [
    "positif_data = data[data['Positif']==1]\n",
    "negatif_data = data[data['Negatif']==1]"
   ]
  },
  {
   "cell_type": "markdown",
   "metadata": {
    "id": "kYLWeVtfOTWq"
   },
   "source": [
    "# Melakukan Data Training 80% dan Data Testing 20%"
   ]
  },
  {
   "cell_type": "code",
   "execution_count": 14,
   "metadata": {
    "id": "5CJL8BNM48sP"
   },
   "outputs": [],
   "source": [
    "Train_X, Test_X, Train_Y, Test_Y = model_selection.train_test_split(data['Tweets'],data['Sentiment'],test_size=0.2)"
   ]
  },
  {
   "cell_type": "code",
   "execution_count": 15,
   "metadata": {
    "id": "DLR8JzP148sR",
    "outputId": "6db35fee-3d11-40fb-ae7c-4c0eab838c09"
   },
   "outputs": [
    {
     "name": "stdout",
     "output_type": "stream",
     "text": [
      "Banyak data X_train : 6578\n",
      "Banyak data X_test  : 1645\n",
      "Banyak data Y_train : 6578\n",
      "Banyak data Y_test  : 1645\n"
     ]
    }
   ],
   "source": [
    "print('Banyak data X_train :',len(Train_X))\n",
    "print('Banyak data X_test  :',len(Test_X))\n",
    "print('Banyak data Y_train :',len(Train_Y))\n",
    "print('Banyak data Y_test  :',len(Test_Y))"
   ]
  },
  {
   "cell_type": "markdown",
   "metadata": {
    "id": "0CaZYrY0Oac0"
   },
   "source": [
    "# CountVectorize untuk melihat berapa banyak \"Kata\" didalam Kolom Tweets"
   ]
  },
  {
   "cell_type": "code",
   "execution_count": 16,
   "metadata": {
    "id": "-6MfmzUZ48sU",
    "outputId": "12a4fc3c-0629-468f-a078-31c3cc0691f4"
   },
   "outputs": [
    {
     "name": "stdout",
     "output_type": "stream",
     "text": [
      "{'ch_chotlmah': 827, 'hahaha': 1443, 'umkmsuburburuhmakmur': 4606, 'npatuh': 3078, 'prokes': 3686, 'agar': 278, 'selamat': 4017, 'tjhinfar21': 4474, 'nouna_jessica19': 3067, 'kami': 1776, 'mendukung': 2503, 'adapawin': 260, 'mantap': 2295, 'chaterinee_08': 830, 'siap': 4107, 'setuju': 4093, 'airinairin_nz': 289, 'ya': 4928, 'nundang': 3146, 'undang': 4613, 'untuk': 4626, 'seluruh': 4027, 'rakyat': 3764, 'indonesia': 1581, 'loh': 2209, 'bukan': 769, 'isi': 1628, 'rumah': 3859, 'jan': 1681, 'lah': 2118, 'pemudabangkitlawanrezim': 3398, 'https': 1513, 'co': 848, 'presiden': 3665, 'jokowi': 1734, 'selalu': 4015, 'bertindak': 674, 'cepat': 823, 'apalagi': 391, 'kepentingan': 1928, 'omnibusprorakyat': 3215, 'omnibusberimanfaatbaik': 3211, 'mudahcarikerja': 2788, 'malam': 2276, 'saya': 3923, 'lagi': 2117, 'ada': 257, 'diskon': 1141, 'di': 949, 'shopee': 4101, 'hingga': 1493, '23': 64, 'order': 3238, 'besok': 687, 'aku': 320, 'jika': 1722, 'ini': 1595, 'tiba': 4449, 'kamu': 1782, 'please': 3626, 'xf0': 4907, 'x9f': 4803, 'x99': 4793, 'x8f': 4784, 'link': 2198, 'x91': 4785, 'x87': 4776, 'nhttps': 2949, 'rt': 3854, 'ranisor': 3774, 'jangan': 1682, 'abai': 245, 'kovid': 2079, 'cipta': 837, 'kerja': 1947, 'akan': 303, 'upaya': 4632, 'pemberantasan': 3369, 'korupsi': 2073, 'memot': 2433, 'xe2': 4905, 'x80': 4769, 'xa6': 4880, 's6cwoy0wzj': 3870, 'nsatgas': 3108, 'penanganan': 3406, 'covid': 859, '19': 39, 'mengajak': 2524, 'para': 3301, 'xc2': 4901, 'xa0pemuda': 4850, 'xa0dan': 4820, 'pemudi': 3399, 'menghidupkan': 2585, 'kembali': 1898, 'xa0ikrar': 4830, 'sumpah': 4226, 'pemuda': 3397, 'yaitu': 4931, 'air': 288, 'dan': 898, 'yang': 4935, 'satu': 3919, 'njangan': 2973, 'banget': 484, 'nih': 2956, 'kl': 2020, 'mau': 2336, 'bikin': 707, 'ijin': 1552, 'halal': 1452, 'omnibuslaw': 3212, 'omnibuslawuntukumkm': 3214, 'omnibusuntukbersama': 3216, 'ekonomi': 1260, 'umkm': 4590, 'kereta': 1944, 'bawah': 517, 'atas': 428, 'kiri': 2018, 'pernah': 3566, 'umkmsejahteraindonesiamaju': 4593, 'orangkayagaktau': 3234, 'bumn': 778, 'dukung': 1219, 'dalam': 894, 'memudahkan': 2453, 'usaha': 4644, 'mari': 2304, 'mencermati': 2476, 'setiap': 4090, 'proses': 3689, 'berlaku': 630, 'sahabatazis_ina': 3881, 'cek': 818, 'fakta': 1302, 'aniesmaniscebongnangis': 374, 'nuu': 3155, 'njokowi': 2980, 'ncermati': 2887, 'bedanya': 532, 'norng': 3065, 'yg': 4943, 'belajar': 542, 'agama': 277, 'pondok': 3648, 'orang': 3232, 'dari': 904, 'youtube': 4957, 'pemimpin': 3393, 'suka': 4217, 'prof': 3680, 'lucunyademokrasinegeriku': 2226, 'boikotprodukperancis': 739, 'investasimasukburuhkerja': 1618, 'sumpahpemuda': 4227, 'viral': 4681, 'jakarta': 1672, 'juara': 1743, 'dunia': 1226, 'dikasih': 1035, 'tau': 4289, 'itu': 1638, 'krn': 2090, 'gub2': 1422, 'sblmnya': 3931, 'kadrun': 1765, 'ga': 1344, 'terima': 4366, 'katanya': 1810, 'kalo': 1773, 'banjir': 492, 'salahkan': 3890, 'anies': 372, 'giliran': 1391, 'ber': 565, 'jr_kw19': 1738, 'miris': 2745, 'pimpinan': 3617, 'ui': 4575, 'oca': 3186, 'selama': 4016, 'nyata': 3167, 'progresif': 3682, 'menghentikan': 2584, 'gerak': 1380, 'tarbiyah': 4284, 'secara': 3967, 'mengejutkan': 2550, 'diberhentikan': 984, 'nade': 2831, 'denni_sauya': 933, 'kesalahpahaman': 1957, 'saja': 3886, 'gubernur': 1423, 'kita': 2019, 'rapat': 3777, 'kabinet': 1762, 'lengkap': 2174, 'dengan': 931, 'sekalian': 3999, 'persoalan': 3578, 'bahkan': 465, 'menurut': 2658, 'pengusaha': 3475, 'asal': 411, 'negeri': 2917, 'paman': 3280, 'sam': 3896, 'mengatakan': 2541, 'uu': 4657, 'sangat': 3908, 'menguntungkan': 2604, 'bagi': 454, 'pegawai': 3334, 'buruh': 782, 'tahun': 4264, 'terakhir': 4325, 'telah': 4305, 'mampu': 2281, 'naik': 2836, 'kelas': 1879, 'daftar': 889, 'xa0kemudahan': 4835, 'berbisnis': 586, 'semula': 4044, 'peringka': 3541, 'nomor': 3057, 'keluar': 1885, 'pada': 3261, 'pasaran': 3312, 'sydney': 4253, 'sd': 3939, 'tanggal': 4276, 'november': 3069, '2020': 59, 'nresult': 3101, 'nshio': 3125, 'naga': 2832, 'nselamat': 3119, 'kepada': 1922, 'pemenang': 3379, 'jayatogel': 1698, 'togelsdyhariini': 4480, 'sofyan': 4159, 'djalil': 1180, 'menyebut': 2668, 'ungkapan': 4617, 'protes': 3691, 'dilayangkan': 1054, 'sejumlah': 3995, 'terhadap': 4361, 'akibat': 309, 'karena': 1791, 'tidak': 4450, 'kemudian': 1915, 'banyak': 499, 'sekali': 3998, 'media': 2345, 'sosial': 4169, 'xa0': 4805, 'bisa': 717, 'membawa': 2397, 'tumbuh': 4535, 'masuk': 2324, 'keperingkat': 1932, '50': 138, 'negara': 2916, 'nkemu': 2992, 'sebab': 3943, 'penerbitan': 3439, 'sapu': 3913, 'jagat': 1666, 'menyelesaikan': 2675, 'sengkarut': 4048, 'regulasi': 3792, 'tumpang': 4536, 'tindih': 4462, 'nah': 2834, 'salah': 3889, 'lihat': 2190, 'yakin': 4933, 'posisi': 3652, 'ke': 1820, 'depan': 934, 'kata': 1807, 'luhut': 2228, 'saat': 3874, 'menjadi': 2622, 'pembicara': 3373, 'lemb': 2167, 'selang': 4019, 'melesat': 2364, 'menduduki': 2502, 'peringkat': 3542, '73': 178, 'pencapaian': 3409, 'pun': 3712, 'mendapatkan': 2491, 'apresiasi': 397, 'ceo': 822, 'united': 4619, 'international': 1612, 'development': 939, 'finance': 1318, 'masyarakat': 2331, 'papua': 3299, 'adalah': 258, 'bapak': 501, 'pencerah__': 3412, 'ketika': 1993, 'sbyudhoyono': 3935, '10': 18, 'bpk': 750, 'menemukan': 2512, 'pltu': 3631, 'mangkrak': 2292, 'merugikan': 2704, 'triliunan': 4512, 'rupiah': 3863, 'pesan': 3596, 'opung': 3229, 'anak2': 355, 'muda': 2786, 'ncekidot': 2886, 'gaes': 1348, 'barisanprokerja': 507, 'gjqwrsdfjf': 1397, 'madisa_isa': 2249, 'semakin': 4032, 'subur': 4209, 'berdampak': 589, 'baik': 467, 'makmur': 2273, 'umkmsuburburuhma': 4602, 'adanya': 259, 'membantu': 2396, 'pelaku': 3348, 'koperasi': 2066, 'hal': 1449, 'perizinan': 3544, 'menyampaikan': 2665, 'pendapat': 3420, 'sah': 3880, 'namun': 2845, 'jgn': 1719, 'jadikan': 1661, 'sebagai': 3944, 'ajang': 295, 'utk': 4656, 'saling': 3893, 'menebar': 2505, 'kebencian': 1833, 'sesama': 4080, 'umat': 4587, 'manusi': 2299, 'rizmaya__': 3830, 'nkemampuan': 2990, 'akademis': 300, 'mahasiswa': 2257, 'cahaya': 800, 'menerangi': 2515, 'akal': 302, 'amp': 348, 'nalar': 2839, 'cenderung': 820, 'pel': 3345, 'putar': 3719, 'ulang': 4584, 'xbb': 4897, 'nboss': 2880, 'besar': 685, 'serikat': 4070, 'lebih': 2161, 'tepat': 4322, 'disebut': 1127, 'pejuang': 3336, 'iuran': 1644, 'anggota': 368, 'upah': 4630, 'nbukan': 2882, 'hanya': 1461, 'hilangnya': 1488, 'rasa': 3778, 'keprihatinan': 1933, 'situasi': 4137, 'mereka': 2697, 'aksi2': 316, 'demo': 926, 'berkumpul': 629, 'sdh': 3941, 'jelas': 1706, 'menimbulkan': 2611, 'claster': 843, 'bar': 503, 'nberbanding': 2872, 'terbalik': 4329, 'ndengan': 2895, 'kemudahan2': 1913, 'tertuang': 4419, 'ciptaker': 839, 'nya': 3162, 'ternyata': 4395, 'selain': 4013, 'ditunggangi': 1167, 'kepentingan2': 1929, 'politik': 3644, 'kental': 1921, 'tuntutan2': 4542, 'wajib': 4705, 'terus': 4425, 'mengarah': 2540, 'kerakusa': 1936, 'biar': 698, 'uang': 4558, 'bekerja': 537, 'hari': 1467, 'minggu': 2733, 'jangangangguanyink': 1683, 'jakartajuaradunia': 1673, 'panjang': 3293, 'novemberwish': 3070, 'solusi': 4163, 'masalah': 2314, 'pengangguran': 3447, 'kemiskinan': 1909, 'dengar': 932, 'deh': 921, 'kenaikan': 1917, 'gaji': 1352, 'maka': 2266, 'daya': 912, 'beli': 548, 'terpuruk': 4403, 'kok': 2030, 'konsumtif': 2059, 'berapa': 576, 'seseorang': 4083, 'dia': 950, 'puluhan': 3711, 'juta': 1756, 'pasti': 3316, 'kurang': 2104, 'harus': 1472, 'pakar': 3272, 'ekomomi': 1258, 'stimulus': 4195, 'pemulihan': 3401, 'zitvxq0hal': 4986, 'langkah': 2134, 'antisipasi': 384, 'pencegahan': 3411, 'berbagai': 580, 'pihak': 3609, 'berharap': 601, 'menekan': 2509, 'ang': 365, 'biaya': 702, 'produksi': 3676, 'menurun': 2656, 'efisiensi': 1251, 'tercipta': 4349, 'pekerja': 3341, 'diperhatikan': 1092, 'lanjut': 2136, 'meminta': 2430, 'jajaran': 1671, 'kementeriannya': 1907, 'membandrol': 2390, 'harga': 1465, 'xa0vaksin': 4871, 'xa0covid19': 4817, 'xa0yg': 4875, 'berbayar': 583, 'atau': 430, 'mandiri': 2287, 'terjang': 4375, 'walaupun': 4713, 'diwajibkan': 1177, 'tetap': 4432, 'sy': 4248, 'akn': 311, 'jual': 1742, 'produk': 3673, 'sgm': 4097, 'paling': 3278, 'byk': 792, 'cari': 810, 'sebagian': 3947, 'keluarga': 1886, 'menengah': 2513, 'keba': 1826, '3m': 110, 'bu': 762, 'tedjo': 4296, 'solutif': 4165, 'e7kfwxmwoc': 1241, 'fahri_sion': 1301, 'dibantu': 973, 'pendampingan': 3418, 'hukum': 1518, 'oleh': 3206, 'pempus': 3396, 'pemda': 3378, 'um': 4586, 'nyesek': 3169, 'x98': 4790, 'x82': 4771, 'nnama': 3049, 'abud': 251, 'gak': 1353, 'ndki': 2911, 'jadi': 1660, 'kota': 2076, 'terbaik': 4328, 'pengamat': 3445, 'transportasi': 4506, 'keberhasilan': 1837, 'ti': 4444, 'blm': 727, 'pengembangan': 3454, 'berkelanjutan': 621, 'era': 1284, 'ndibaca': 2898, 'baik2': 468, 'drun': 1212, 'gub': 1421, 'apa': 386, 'aj': 292, 'wawancara': 4729, 'ri': 3817, 'perancis': 3513, 'turun': 4544, 'covid19': 860, 'lucu': 2225, 'benar': 557, 'capek2': 807, 'kongkalikong': 2048, 'unk': 4622, 'pencitraan': 3415, 'tapi': 4283, 'dapat': 900, 'pujian': 3705, 'ahok': 286, 'nemang': 2923, 'terbodoh': 4342, 'njanga': 2972, 'yuk': 4967, 'sayangi': 3925, 'diri': 1114, 'sendiri': 4047, 'juga': 1744, 'menjamin': 2628, 'percepatan': 3525, 'kepastian': 1925, 'dlm': 1186, 'sertifikasi': 4076, 'nlembaga': 3012, 'pemeriksa': 3380, 'jg': 1715, 'berikut': 607, 'xa0bantuan': 4811, 'xa0dari': 4822, 'pemerintah': 3384, 'membangkitkan': 2393, 'xa0umkm': 4867, 'ht': 1512, 'ariestariico_': 403, 'xa0mengalami': 4842, 'dampak': 896, 'cukup': 868, 'berat': 578, 'tengah': 4317, 'pandemi': 3288, 'nmengapresiasi': 3038, 'munculnya': 2804, 'substansi': 4208, 'ker': 1935, 'tiada': 4447, 'maaf': 2246, 'bagimu': 457, 'x8b': 4780, 'nsudah': 3128, 'saatnya': 3875, 'kebiasaan': 1840, 'jaim': 1668, 'sok': 4161, 'mulia': 2799, 'tempatkan': 4312, 'sesuai': 4084, 'kepentingannya': 1930, 'biarkan': 699, 'penjahat2': 3479, 'x89': 4778, 'boikot': 738, 'kekerasan': 1875, 'ajaran': 296, 'prancis': 3660, 'muipusat': 2794, 'khusus': 2010, 'buat': 764, 'ingin': 1594, 'sukses': 4218, 'lewat': 2180, 'membangun': 2394, 'mikro': 2728, 'kecil': 1850, 'perlu': 3556, 'kh': 2004, 'hanifah933': 1460, 'x83': 4772, 'karikatur': 1793, 'terlalu': 4385, 'indah': 1575, 'asliny': 420, 'mah': 2254, 'ngamuk2': 2928, 'pabrik': 3259, 'tutup': 4547, 'nyalahin': 3164, 'minta': 2741, 'tlg': 4476, 'said': 3884, 'iqbal': 1624, '_rani1603': 237, 'bang': 483, 'hotman': 1506, 'aja': 293, 'berarti': 577, 'emang': 1272, 'bangsa': 489, 'pemerintahan': 3385, 'dibawah': 976, 'kepemimpinan': 1927, 'mengupayakan': 2605, 'cara': 808, 'mengatasi': 2542, 'nmulai': 3047, 'dr': 1207, 'pemberian': 3371, 'macam': 2247, 'bantuan': 498, 'ketersediaan': 1990, 'vaksin': 4668, 'kasihan': 1804, 'penggemar': 3459, 'kejang': 1870, 'twwp2es1x3': 4550, 'wakil': 4708, 'ketua': 1996, 'dpr': 1203, 'azis': 442, 'syamsuddin': 4249, 'nmengalami': 3037, 'nama': 2840, 'wan': 4716, 'npadahal': 3073, 'bliooo': 725, 'udah': 4564, 'capek': 806, 'podium': 3636, 'konpers': 2051, 'xa4': 4878, 'xa3': 4877, 'kategori': 1811, 'berpendapatan': 647, 'upper': 4636, 'middle': 2720, 'income': 1574, 'country': 857, 'p8guoi2yji': 3256, 'peserta': 3600, 'bpjs': 749, 'kesehatan': 1962, 'mulai': 2797, '11': 23, 'diminta': 1071, 'melakukan': 2354, 'registrasi': 3791, 'nyang': 3166, 'merupakan': 2706, 'segmen': 3982, 'penerima': 3440, 'otsus': 3247, 'jilid': 1723, 'ii': 1548, 'kemajuan': 1888, 'teknologi': 4303, 'informasi': 1588, 'protokol': 3692, 'patuhi': 3323, 'milenial': 2730, 'berperan': 648, 'kampanye': 1778, 'via': 4678, 'daring': 905, 'sekarang': 4001, 'mempermudah': 2445, 'sedang': 3969, 'membuka': 2417, 'usahanya': 4645, 'nmenyampaikan': 3042, 'manusia': 2300, 'nsampaikan': 3105, 'elegant': 1267, 'x9d': 4802, 'naydonuts': 2864, 'xa2': 4876, 'diprioritaskan': 1108, 'mjd': 2749, 'mitra': 2747, 'seiring': 3987, 'dgn': 946, 'kebijakan': 1841, 'mewajibkan': 2714, 'kementrian': 1908, 'lembag': 2169, 'menyumbang': 2685, '14': 26, '17': 34, 'total': 4497, 'ekspor': 1263, '58': 148, '18': 35, 'investasi': 1617, 'jumlah': 1749, 'serapan': 4066, 'tenaga': 4315, 'pak': 3269, 'betul': 689, 'menghilangkan': 2586, 'budaya': 766, 'impor': 1569, 'pangan': 3291, 'lakukan': 2125, 'menjadikan': 2623, 'teman': 4309, 'dulu': 1223, 'mudah': 2787, 'provokasi': 3694, 'cerdas': 824, 'terprovokasi': 4402, 'hoax': 1504, 'membuktikan': 2418, 'dikatakan': 1036, 'mbah': 2342, 'google': 1408, 'xad': 4885, 'ndikelola': 2903, 'swasta': 4244, 'langsung': 2135, 'mayariris2': 2340, 'ketahuan': 1979, 'menjijikan': 2635, 'demi': 924, 'penghargaan': 3465, 'tanpa': 4280, 'prestasi': 3666, 'inget': 1592, 'ijasah': 1551, 'lilapama2011': 2191, 'ekspresi': 1264, 'kebebasan': 1831, 'nmencederai': 3035, 'kesucian': 1976, 'dihentikan': 1019, 'nkebebasan': 2987, 'berekspresi': 594, 'mencederai': 2474, 'nkehormaban': 2989, 'kesu': 1975, 'walang_sangitt': 4711, 'melalui': 2358, 'izin': 1653, 'sehingga': 3985, 'berkembang': 622, 'mak': 2265, 'rantai': 3776, 'menghambat': 2576, 'kemakmuran': 1889, 'kesejahteraan': 1964, 'tercapai': 4346, 'penyederhanaan': 3499, 'administrasi': 269, 'perpajakan': 3569, 'keringanan': 1946, 'pendaftaran': 3417, 'insentif': 1600, 'pajak': 3268, 'umk': 4589, 'manfaat': 2289, 'omnibus': 3210, 'law': 2151, 'ngapain': 2931, 'ikut': 1559, 'memunculkan': 2457, 'cluster': 846, 'baru': 508, 'berpotensi': 654, 'menulari': 2650, 'jonikusuma14': 1736, 'mending': 2497, 'dirumah': 1117, 'smartmom_1': 4146, 'b_adjah': 448, 'stephmst': 4193, 'galihpersadha__': 1354, '5el4orvkft': 153, 'lumbung': 2230, 'dipersiapkan': 1101, 'dibeberapa': 979, 'daerah': 887, 'mencukupi': 2483, 'kebutuhan': 1845, 'konsumsi': 2058, 'na': 2826, 'toleransi': 4489, 'antar': 379, 'beragama': 569, 'menguatkan': 2598, 'persatuan': 3573, 'nkri': 3003, 'ideologi': 1540, 'pancasila': 3285, 'seruanhl': 4078, 'ngebahas': 2932, 'apaan': 388, 'tuh': 4527, 'nminta': 3044, 'waktunya': 4710, 'bro': 757, 'sis': 4130, 'bahas': 462, 'semua': 4042, 'paham': 3265, 'pentinganya': 3490, 'setel': 4086, 'nsobat': 3126, 'nyuks': 3175, 'simak': 4121, 'baleg': 476, 'firman': 1319, 'nbahwa': 2868, 'xa0uu': 4870, 'npara': 3076, 'pengalaman': 3443, 'guru': 1430, 'sobat': 4154, 'nberdasarkan': 2873, 'itulah': 1639, 'meringankan': 2701, 'yuks': 4968, 'nkita': 3000, 'utas': 4654, 'berdasarkan': 590, 'diatas': 966, 'beliau': 549, 'memberikan': 2409, 'kemudahan': 1912, 'dpt': 1204, 'berusah': 682, 'biang': 697, 'oh': 3194, 'my': 2818, 'god': 1405, 'gimana': 1393, 'nduh': 2912, 'kapan': 1787, 'gue': 1424, 'dapet': 901, 's025bnoweb': 3869, 'penyesalan': 3507, 'akhir': 306, 'awal': 434, 'sr6fk7t58q': 4178, 'mantapp': 2296, 'mengurus': 2607, 'sertifikat': 4077, 'sebelum': 3955, 'mencapai': 2472, 'rp12jt': 3843, 'per': 3511, 'nsekarang': 3115, 'stlh': 4196, 'tsb': 4517, 'lahirnya': 2119, 'obl': 3185, 'cipker': 835, 'menyiapkan': 2681, 'bersaing': 657, 'iklim': 1557, 'global': 1400, 'serba': 4067, 'birokrasi': 715, 'penciptaan': 3414, 'lapangan': 2143, 'dhinijogja': 947, 'perijinan': 3538, 'nelayan': 2922, 'pintu': 3619, 'yakni': 4934, 'kementerian': 1906, 'kelautan': 1880, 'perikanan': 3539, 'robert_moses2': 3836, 'njelas': 2975, 'seperti': 4061, 'katakan': 1809, 'joko': 1732, 'widodo': 4736, 'pan': 3282, 'pasal': 3309, 'merndorong': 2702, 'maju': 2264, 'sejajar': 3990, 'perusahaan': 3593, 'sekedar': 4002, 'wacana': 4697, 'karya': 1798, 'memberi': 2408, 'jalan': 1674, 'anak': 354, 'ndgn': 2896, 'lapak': 2141, 'ganjar': 1358, 'terban': 4330, 'p7ang_3': 3255, 'bangkit': 486, 'diciptakan': 995, 'melindungi': 2367, 'lingkungan': 2196, 'hidup': 1486, 'ramah': 3766, 'alam': 325, 'pejabat': 3335, 'memperhatikan': 2440, 'mengutamakan': 2608, 'sejahtera': 3988, 'sektor': 4010, 'didorong': 1003, 'memulihkan': 2456, 'mendirikan': 2498, 'memang': 2381, 'sosok': 4172, 'sempurna': 4041, 'ntapi': 3131, 'setidaknya': 4091, 'sudah': 4211, 'membuat': 2416, 'perubahan': 3589, 'berharga': 602, 'dibanyak': 974, 'pe': 3328, 'mata': 2334, 'hati': 1477, 'aksi': 315, 'xb7': 4894, 'omnibuslawburuhsejahtera': 3213, 'umkmnaikkelas': 4591, 'umkmtetapsemangat': 4607, 'apabila': 389, 'menerapkan': 2516, 'tertinggal': 4417, 'lainnya': 2122, 'lbih': 2158, 'dn': 1191, 'pasar': 3311, 'uuciptakerja': 4659, 'pilkada2020': 3615, 'iya': 1648, 'sich': 4113, 'aromanya': 405, 'berbangga': 581, 'pertanyaannya': 3583, 'mungkin': 2805, 'plintiran': 3627, 'lidah': 2189, 'untaian': 4624, 'puisi': 3704, 'ana_nfn': 353, 'nbapak': 2870, 'pengadaan': 3442, 'pelaksanaan': 3347, 'vaksinasi': 4669, 'budiarto689': 767, 'subsidi': 4207, 'upahnya': 4631, 'sebesar': 3959, '600rb': 161, 'bulan': 775, 'mencegah': 2475, 'daripada': 906, 'mengobati': 2597, 'beraktifitas': 571, 'mengurangi': 2606, 'resiko': 3806, 'tertula': 4420, 'program': 3681, 'diluncurkan': 1063, 'kawasan': 1814, 'kebun': 1844, 'donjuanx8': 1202, 'kompetitif': 2038, 'merata': 2693, 'nkarena': 2986, 'waduk': 4700, 'nantinya': 2850, 'petani': 3603, 'ditanam': 1153, 'go': 1403, 'internasional': 1611, 'stop': 4197, 'nbahka': 2866, 'tingkatkan': 4469, 'tak': 4265, 'mengubah': 2599, 'pengaturan': 3448, 'amdal': 344, 'x8d': 4782, 'investor': 1619, 'pekerjaan': 3342, 'nanak': 2846, 'berpikir': 651, 'diskusi': 1142, 'tentang': 4319, 'umkmsubu': 4596, 'npada': 3072, 'akhirnya': 307, 'pilihan': 3613, 'masing2': 2320, 'individu': 1578, 'masih': 2318, 'memilih': 2426, 'sehat': 3984, 'melihat': 2366, 'jela': 1705, 'pelatihan': 3352, 'dimudahkan': 1074, 'akses': 313, 'permodalan': 3563, 'sampai': 3902, 'dukungan': 1220, 'nrumusnya': 3102, 'bermunculan': 642, 'n1': 2822, 'x9cpemerintah': 4801, 'menerus': 2519, 'reformasi': 3790, 'struktural': 4204, 'memperbaik': 2437, 'ditempuh': 1155, 'guna': 1428, 'memperbaiki': 2438, 'berusaha': 683, 'mik': 2725, 'trus': 4515, 'kalian': 1772, 'nginjek': 2939, 'foto': 1332, 'wajahnya': 4704, 'emmanuel': 1273, 'macron': 2248, 'bakalan': 474, 'nangis': 2848, 'gitu': 1396, 'kan': 1784, 'tidaklah': 4451, 'kalau': 1770, 'dipangkas': 1085, 'ketentuan': 1986, 'syarat': 4250, 'tata': 4288, 'phk': 3608, 'diatur': 968, 'sebagaimana': 3945, 'uu13': 4658, 'th': 4439, '2003': 55, 'xa0disambut': 4826, 'asosiasi': 423, 'akumindo': 321, 'menilai': 2610, 'kemuda': 1911, 'bahwa': 466, 'tercepat': 4348, 'nuntuk': 3147, 'str': 4199, 'npresiden': 3093, 'indon': 1579, 'kekuatan': 1876, 'kebangkitan': 1829, 'satunya': 3921, 'mengembangkan': 2553, 'nkunci': 3007, 'seorg': 4053, 'mantan': 2294, 'nmantan': 3025, 'walikota': 4715, 'solo': 4162, 'dki': 1182, 'tentu': 4320, 'baw': 515, 'agusyudhoyono': 284, 'waduhh': 4699, 'robert__moses': 3835, 'begini': 533, 'islam': 1631, 'menunjukkan': 2653, 'kemarahannya': 1893, 'pernyataan': 3567, 'napaka': 2852, 'markonah76': 2308, 'boleh': 741, 'justru': 1754, 'menunjukan': 2652, 'kegoblokan': 1862, 'mu': 2783, 'nduhh': 2913, 'goblok': 1404, 'dah': 892, 'mengalami': 2531, 'kejenuhan': 1871, 'menghadapi': 2573, 'bersabar': 655, 'menderita': 2494, 'meragukan': 2688, 'nindonesia': 2960, 'rumit': 3860, 'nsaatnya': 3104, 'melakuk': 2353, 'jawaban': 1695, 'pencari': 3410, 'namanya': 2843, 'mengerti': 2560, 'dimana': 1065, 'terjangkau': 4376, 'mui': 2791, 'memiliki': 2427, 'tujuan': 4529, 'mewujudkan': 2715, 'berkualitas': 628, 'adil': 266, 'allah': 334, 'swt': 4247, 'miftahul': 2724, 'akhyar': 308, 'cocok': 850, 'umum': 4610, 'administration': 270, 'affairs': 275, '1802_kimmi': 36, 'b3doel_': 444, 'kianinara1': 2013, 'bukti': 772, 'dilakukan': 1049, 'kehormatan': 1867, 'kesakralan': 1955, 'nilai': 2958, 'serta': 4073, 'simbol': 4122, 'mengeluarkan': 2551, 'pembuatan': 3375, 'gratis': 1415, 'npandemi': 3075, 'berjalan': 612, 'publik': 3703, 'mengakses': 2528, 'perkembangannya': 3550, 'in': 1572, 'nmui': 3046, 'jamrikorwal': 1680, 'gan': 1356, 'gugat': 1425, 'germa993': 1384, 'miftachul': 2723, 'keekeewww': 1856, 'dwikpangga35': 1228, 'pelayanan': 3353, 'tia_puspita_': 4446, 'semoga': 4038, 'selutuh': 4029, '3fyi8ep12r': 107, 'blackswan824': 724, 'kalangan': 1769, 'nketentuan': 2997, 'kompensasi': 2037, 'soal': 4153, 'frita_ayu04': 1336, 'terutama': 4427, 'geeeon111': 1372, 'bener2': 560, 'lho': 2185, 'jaminan': 1679, 'diberikan': 986, 'ci': 832, 'jitoe02': 1724, 'disahkan': 1121, 'perekonomian': 3532, 'nasional': 2858, 'menghadap': 2572, 'lostari21': 2215, 'utamakan': 4651, 'ganjarpranowo': 1359, 'aniesbaswedan': 373, 'kasih': 1803, 'pionir': 3620, 'xae': 4889, 'xa9': 4882, 'basuki_btp': 512, 'toh': 4482, 'x8c': 4781, 'juru': 1752, 'bicara': 703, 'satuan': 3920, 'tugas': 4526, 'xa0wiku': 4873, 'adisasmito': 267, 'xa0mengingatkan': 4843, 'tempat': 4311, 'wisata': 4743, 'mengantisipasi': 2537, 'munculny': 2803, 'memberdayakan': 2407, 'mereformasi': 2696, 'terkait': 4378, 'ndalam': 2892, 'mntp': 2758, 'guys': 1431, 'bakal': 473, 'mengkalaim': 2595, 'gagal': 1350, 'bhw': 695, 'inco': 1573, 'cherrsoom': 831, 'bergerak': 598, 'terbuka': 4343, 'sebanyak': 3951, 'banyaknya': 500, 'nh': 2941, 'tu': 4522, 'bentuk': 563, 'kekebalan': 1874, 'tubuh': 4525, 'melawan': 2363, 'penyakit': 3495, 'waduh': 4698, 'sih': 4115, 'pupuk': 3717, 'salurkan': 3894, 'ton': 4493, 'bersubsidi': 666, 'b581hpmhwi': 445, 'wahabislokal': 4702, 'kabar': 1761, 'gembira': 1377, 'nkabar': 2983, 'buruk': 784, 'nakibatnya': 2838, 'klonjotan': 2023, 'kepanasan': 1924, 'teriak2': 4365, 'gk': 1398, 'bak': 472, 'kesurup': 1977, 'ingat': 1590, 'figur': 1316, 'rendah': 3798, 'tdk': 4294, 'sllu': 4145, 'mw': 2812, 'dilayani': 1055, 'wlw': 4754, 'pantas': 3295, 'menerima': 2517, 'tersebut': 4407, 'asist': 417, 'niat': 2952, 'mengangkat': 2535, 'agr': 280, 'luas': 2224, 'bs': 760, 'sge': 4096, 'janji': 1685, 'jokokowi': 1733, 'main2': 2259, 'ngimana': 2938, 'enggak': 1276, 'mayoritas': 2341, '99': 226, 'tujuannya': 4530, 'wkwk': 4749, 'ni': 2950, 'nmenkominfo': 3040, 'kandidat': 1785, 'pilkada': 3614, 'berkampanye': 618, 'positif': 3653, 'ruang': 3856, 'digital': 1011, 'rp': 3839, '12': 24, 'semahal': 4031, 'kadang': 1764, 'dipenuhi': 1088, 'termasuk': 4391, 'segera': 3980, 'pemp': 3395, 'waspada': 4724, 'penularan': 3493, 'kala': 1768, 'liburan': 2188, 'gays': 1366, 'ejy1qhd5xi': 1256, 'kurangi': 2105, 'nberikut': 2874, 'kiatnya': 2015, 'u96chbqmle': 4554, 'dianggap': 960, 'nusaha': 3153, 'mempunyai': 2452, 'kekayaan': 1873, 'bnyk': 733, 'wkwkw': 4750, 'jga': 1716, 'jdi': 1702, 'ikhaamina': 1556, 'ayo': 440, 'nresiko': 3100, 'tertular': 4421, 'menimpa': 2612, 'siapa': 4109, 'lindungi': 2194, 'generasi': 1379, 'penerus': 3441, 'berkiprah': 624, 'keren': 1943, 'bener': 559, 'harian': 1468, 'percaya': 3523, 'menyesatkan': 2679, 'kov': 2077, 'pemuka': 3400, 'opini': 3222, 'menangani': 2468, 'pendemi': 3425, 'ccovid': 814, 'disampaikan': 1124, 'rilis': 3822, 'survei': 4233, 'jumianto_rk': 1748, 'kemarin': 1894, 'bilang': 709, 'plonga': 3628, 'plongo': 3629, 'berubah': 678, 'diktator': 1046, 'm_dinsyamsuddin': 2244, 'urus': 4642, 'tangga': 4275, 'lu': 2222, 'giman': 1392, 'bahaya': 464, 'operasi': 3221, 'zebra': 4984, 'petugas': 3604, 'teguran': 4299, 'pelanggaran': 3351, 'meminimalisir': 2429, 'satgas': 3918, 'lengah': 2173, 'disiplin': 1138, 'okjre': 3201, 'libur': 2187, 'corona': 856, 'kenal': 1918, 'nkiat': 2999, 'dibaca': 970, 'waket': 4707, 'mpr': 2777, 'ingatkan': 1591, 'mengecam': 2546, 'keras': 1942, 'menghina': 2587, 'memecah': 2420, 'belah': 541, 'berag': 568, 'optimis': 3226, 'zorbzjlilf': 4994, 'berpendapat': 646, 'seharusnya': 3983, 'ujaran': 4577, 'dibiarkan': 987, 'kecam': 1846, 'umkmsu': 4594, 'kunci': 2102, 'aktivitas': 319, 'masa': 2313, 'kali': 1771, 'penambahan': 3404, 'kasus': 1806, 'umumnya': 4611, 'aka': 299, 'ragukan': 3760, 'nvaksinasi': 3157, 'menumbuhkan': 2651, 'imunitas': 1571, 'hrs': 1510, 'ata': 427, 'konkretnya': 2050, 'turut': 4545, 'fasilitasi': 1307, 'penyelenggaraan': 3503, 'diproduksi': 1109, 'dikembangkan': 1041, 'nvaksin': 3156, 'merah': 2689, 'putih': 3720, 'dik': 1032, 'memperoleh': 2446, 'huku': 1517, 'bagaimana': 453, 'meningkatkan': 2618, 'produ': 3672, 'paragraf': 3302, 'mengenai': 2556, 'perdagangan': 3528, 'metrologi': 2711, 'legal': 2162, 'standardisasi': 4187, 'penilaian': 3476, 'kesesuaian': 1971, 'tepatnya': 4323, 'pusat': 3718, 'produsen': 3679, 'terbesar': 4339, '2024': 61, 'diwujudkan': 1178, 'tarif': 4286, 'rp0': 3840, 'beban': 528, 'menteri': 2645, 'keuangan': 1997, 'menkeu': 2637, 'sri': 4180, 'mulyani': 2800, 'menyatakan': 2666, 'pihaknya': 3610, 'menggodok': 2568, 'peraturan': 3518, 'pmk': 3633, 'no': 3052, 'kemendag': 1900, 'menyediakan': 2670, 'fasilitas': 1306, 'kpd': 2080, 'pr': 3658, 'memfasilitasi': 2424, 'orangdesadamai': 3233, 'silahkan': 4117, 'dicek': 994, 'kebenaran': 1832, 'vdg': 4674, '60': 160, 'persen': 3575, 'makanan': 2268, 'minuman': 2743, 'peningkatan': 3478, 'penjualan': 3485, 'dg': 944, 'digratiskan': 1013, 'ditambah': 1151, 'lembaga': 2170, 'melalukan': 2359, 'pengujian': 3470, 'diharapkan': 1017, 'xb2': 4892, 'halalnya': 1453, 'dibiayai': 988, 'alias': 331, 'pro': 3671, 'nice': 2954, 'makin': 2272, 'diperluas': 1098, 'lingk': 2195, 'mengenal': 2558, 'sejarah': 3992, 'oeang': 3187, 'republik': 3799, 'menko': 2638, 'airlangga_hrt': 291, 'menegaskan': 2507, 'memberikannya': 2410, 'status': 4190, 'umkmsubur': 4597, 'cegah': 817, 'erick': 1286, 'thohir': 4443, 'gerakan': 1381, 'koalisi': 2027, 'relawan': 3796, 'mensosialisasikan': 2644, 'masyar': 2328, 'menuggu': 2647, 'kann': 1786, 'cgswcroozj': 826, 'bekerjasama': 538, 'sesudah': 4085, 'berlibur': 636, 'menjelaskan': 2634, 'menggratiskan': 2569, 'kepedulian': 1926, 'sungguh': 4228, 'patut': 3324, 'diacungi': 951, 'jempol': 1709, 'belio': 550, 'mengingatkan': 2592, 'maulid': 2337, 'nabi': 2827, 'saw': 3922, 'cuti': 873, 'bersama': 658, 'sa': 3873, 'umkmsuburburuhmak': 4603, 'prajoeritjogja': 3659, 'dipastikan': 1086, 'tambahan': 4269, 'ditanggung': 1154, 'tis': 4471, 'tiisss': 4454, 'bkn': 723, 'cm': 847, 'tp': 4498, 'nmenurutnya': 3041, 'pandem': 3287, 'paris': 3305, 'bantu': 497, 'penegakan': 3432, 'hukumnya': 1520, 'dikeluhkan': 1040, 'amburadulnya': 342, 'nsertifikat': 3123, 'dikeluarkan': 1039, 'nbahkan': 2867, 'pertanggung': 3582, 'pd': 3326, 'gada': 1347, 'ntakkan': 3130, 'terjadi': 4371, 'salut': 3895, 'maturnuwun': 2335, 'tuk': 4531, '21': 63, 'xb9': 4896, 'ku': 2095, 'ndinamika': 2905, 'trobosan': 4514, 'struktu': 4203, 'xa0untuk': 4869, 'hipmi': 1495, 'meningkat': 2616, 'npenyerapan': 3087, 'pembentukan': 3368, 'ribet': 3819, 'krisis': 2087, 'pasca': 3313, 'tarigiboo': 4287, 'hadirnya': 1442, 'menyederhanakan': 2669, 'nberujung': 2879, 'perbaikan': 3520, 'bawa': 516, 'virus': 4683, 'terorisme': 4398, 'teroris': 4397, 'hubungannya': 1515, 'apapun': 392, 'ciptakerja': 840, 'disambut': 1123, 'nasosiasi': 2860, 'notsus': 3066, 'untum': 4628, 'ruu': 3865, 'bpip': 747, 'memperkuat': 2441, 'bajunya': 471, 'hip': 1494, 'nbpip': 2881, 'bertujuan': 677, 'ancaman': 361, 'jd': 1700, 'abal': 247, 'lain': 2120, 'x84': 4773, 'alhamdulillah': 330, 'padahal': 3262, 'diterima': 1160, 'tangan': 4273, 'dipuji': 1110, 'mem': 2371, 'jurus': 1753, 'mynaeve': 2819, 'waaw': 4695, 'pph': 3656, 'badan': 451, 'diturunkan': 1168, 'menurunkan': 2657, 'wiku': 4739, 'klaster': 2021, 'ndi': 2897, 'manapun': 2285, 'kemanapun': 1891, 'njgn': 2976, 'lupa': 2231, 'sedulur': 3976, 'menjaga': 2624, 'disipli': 1137, 'apakah': 390, 'alkes': 333, 'palu': 3279, 'arit': 404, '3zjod4tefb': 113, 'tegakkan': 4297, 'keamanan': 1825, 'ketertiban': 1991, 'kamtibmas': 1781, 'kondusif': 2045, 'samapta': 3898, 'polda': 3642, 'bengkulu': 562, 'patroli': 3321, 'beberapa': 530, 'tahan': 4261, 'kasian': 1802, 'wujudkan': 4764, 'kerakyatan': 1938, 'xa0term': 4862, 'mirip': 2744, 'kaykanya': 1816, 'pakarwin': 3273, 'bola': 740, 'terpercaya': 4400, 'wah': 4701, 'bgt': 692, 'parah': 3303, 'eranya': 1285, 'bambu': 477, 'abaikan': 246, 'pejuang3355': 3337, 'm2qupfqg2y': 2241, 'bwd12': 789, 'wantahgdn': 4718, 'seorang': 4052, 'x94': 4788, 'berupaya': 681, 'dimulai': 1075, 'wkwkwkwk': 4751, 'berkah': 616, 'dana': 899, 'asing': 416, 'lisarah07320148': 2200, 'wali': 4714, 'banda': 479, 'aceh': 253, '98': 225, 'ndukung': 2914, 'sahkan': 3883, 'perluas': 3557, 'wawasan': 4730, 'umkmsuburburuhm': 4601, 'manacikansty1': 2283, 'mengandung': 2534, 'annisty3': 378, 'strategi': 4201, 'memangkas': 2382, 'umkmsuburbu': 4599, 'sandiaga': 3907, 'uno': 4623, 'abon': 250, 'ikan': 1555, 'belitung': 554, 'buka': 768, 'dibentuk': 982, 'diseluruh': 1132, 'wilayah': 4740, 'menjangkau': 2630, 'bepergian': 564, 'memotong': 2434, 'integrasikan': 1608, 'sistem': 4133, 'elektronik': 1269, 'pungli': 3714, 'dihilangkan': 1020, 'ekosistem': 1261, 'nich': 2955, 'tahu': 4263, 'yaaaa': 4930, 'nsaat': 3103, 'orba': 3237, 'kehilangan': 1866, 'assets': 426, 'nomnibus': 3056, 'pengelola': 3451, 'alternatif': 336, 'menggerakan': 2566, 'ab': 243, 'prosedur': 3687, 'tercatat': 4347, 'wekaaa': 4734, 'x88': 4777, 'keselamatan': 1965, 'pengesahan': 3456, 'biasanya': 701, 'berpergian': 649, 'mampir': 2279, 'rest': 3809, 'area': 402, 'terminal': 4392, 'udara': 4565, 'laut': 2150, 'darat': 903, 'makan': 2267, 'toko': 4483, 'dimiliki': 1069, 'ukm': 4581, 'hadir': 1441, 'lokasi': 2213, 'diubah': 1170, 'prnh': 3670, 'adlh': 268, 'nganjar': 2930, 'berkomitmen': 625, 'anda': 363, 'memakai': 2375, 'batik': 513, 'bermotif': 641, 'warna': 4722, 'dominan': 1198, 'hijau': 1487, 'kuning': 2103, 'motif': 2772, 'blora': 729, 'terkenal': 4381, 'sebutan': 3965, 'gara': 1360, 'garanya': 1361, 'membocorkan': 2415, 'dipakainya': 1083, 'khalayak': 2005, 'entah': 1278, 'sambutan': 3901, 'acara': 252, 'resmi': 3807, 'gandeng': 1357, 'gelorakan': 1376, 'ajakannya': 294, 'belanja': 546, 'warung': 4723, 'tetangga': 4431, 'nkalau': 2985, 'kepala': 1923, 'malah': 2275, 'tg4mr3rlpe': 4438, 'jangka': 1684, 'pendek': 3424, 'menjalankan': 2626, 'survival': 4235, 'bertahan': 668, 'sekuat': 4011, 'tuntas': 4540, 'tampaknya': 4270, 'ketahanan': 1978, 'difasilitasi': 1008, 'mengaktifkan': 2529, 'produktif': 3678, 'imbal': 1566, 'jasa': 1689, 'penjaminan': 3481, 'ijp': 1553, 'rp5': 3849, 'triliun': 4511, 'modal': 2761, 'rp1': 3841, 'final': 1317, 'rp2': 3844, 'pembiayaan': 3372, 'lpdb': 2216, 'kemenkop': 1902, 'gaskuen': 1363, '24': 68, 'terdiri': 4354, 'bunga': 779, 'rp35': 3848, '28': 75, 'penempatan': 3433, 'restrukturisasi': 3810, 'rp78': 3850, '78': 182, 'iffahkhofifa': 1544, '16': 30, 'mengucurkan': 2600, 'rp123': 3842, '46': 120, 'bregodosiber': 754, 'menghadirkan': 2574, 'food': 1329, 'estate': 1287, 'kamuflase': 1783, 'kelompok': 1884, 'anarko': 360, 'pakai': 3270, 'baju': 470, 'hitam': 1496, 'khas': 2006, 'dilingkari': 1061, 'perusuh': 3595, 'penyusup': 3509, 'perundingan': 3591, 'melibatkan': 2365, 'organisasi': 3240, 'kerjasama': 1951, 'oki': 3200, 'mrpkan': 2780, 'potensial': 3655, 'nja': 2968, 'munas': 2801, 'diselenggarakan': 1130, '25': 70, 'agus': 282, 'saing': 3885, 'aman': 337, 'konsumen': 2057, 'drmah': 1210, 'dlu': 1187, 'kam': 1775, 'tra': 4502, 'usah': 4643, 'suparmanto': 4229, 'ha': 1438, 'over': 3250, 'terobosan': 4396, 'pertama': 3581, 'sebuah': 3963, 'keberanian': 1836, 'metode': 2710, 'bonita_bal': 743, 'beda': 531, 'ulama': 4583, 'pembunuh': 3377, 'mengayomi': 2545, 'be': 525, 'baca': 449, 'bila': 708, 'jauh': 1692, 'sebut': 3964, 'thailand': 4440, 'malayasia': 2277, 'tertulis': 4422, 'selainitu': 4014, 'hukuman': 1519, 'denda': 930, 'koordinator': 2063, 'bidang': 705, 'xa0airlangga': 4807, 'hartarto': 1470, 'xa0mengungkapkan': 4844, 'pem': 3357, 'kesempatan': 1968, 'korporasi': 2072, 'mendorong': 2501, 'kemitraan': 1910, 'penindakan': 3477, 'tim': 4456, 'gabungan': 1346, 'yustisi': 4970, 'menertibkan': 2518, 'penguatan': 3469, 'proteksi': 3690, 'ketiga': 1992, 'potensi': 3654, 'startup': 4188, 'lokal': 2212, 'terlebih': 4387, 'kemampuan': 1890, 'menciptakan': 2477, 'penyerapan': 3506, 'kerjanya': 1950, 'sering': 4071, 'sisi': 4131, '44': 118, 'september': 4063, '27': 72, 'oktober': 3204, 'efektif': 1247, 'masyaraka': 2330, 'skli': 4141, 'kas': 1800, 'tinggal': 4464, 'de': 917, 'dlam': 1183, 'penjara': 3482, 'tobat': 4479, 'nyai_agengjogja': 3163, 'diduga': 1004, 'memproduksi': 2450, 'gerbong': 1383, 'api': 396, 'ngerbong': 2935, 'madiun': 2250, 'mendunia': 2504, 'urgen': 4641, 'aturan': 433, 'dilaksanakan': 1048, 'su': 4205, 'sicepot_': 4112, 'bos': 745, 'membina': 2413, 'ketrampilan': 1995, 'sudahkah': 4212, 'nuntut': 3148, 'dita_ayu04': 1149, 'tanggung': 4278, 'jawab': 1694, 'nmakanya': 3021, 'ikutan': 1561, 'lg': 2183, 'berkerumunan': 623, 'ik': 1554, 'dinilai': 1080, 'mengakomodir': 2527, 'airlangga': 290, 'padat': 3264, 'pasalnya': 3310, '87': 207, 'berlatar': 635, 'pendidikan': 3427, 'sekolah': 4005, '39': 103, 'nberkat': 2876, 'perbedaan': 3522, 'mencolok': 2480, 'ditengah': 1156, 'memenuhi': 2422, 'hak': 1446, 'mengingat': 2591, 'betapa': 688, 'pentingnya': 3491, 'pembinaan': 3374, 'sekitar': 4003, 'butuh': 787, 'mendesak': 2495, 'kaum': 1812, 'kucluk': 2098, 'norak': 3062, 'mengungkapkan': 2602, 'berada': 566, 'momentum': 2768, 'jebakan': 1703, 'trap': 4507, 'rerebaper': 3801, 'kampung': 1780, 'sinkronisasi': 4125, 'begitu': 534, 'obesitas': 3183, 'memajukan': 2374, 'menghargai': 2580, 'berwisata': 684, 'disarankan': 1125, 'serumah': 4079, 'diakuinya': 956, 'pengurusan': 3474, 'x9cini': 4800, 'sekaligus': 4000, 'merealis': 2695, 'barang': 504, 'kemenag': 1899, 'penyelenggara': 3502, 'bp': 746, 'untk': 4625, 'dong': 1200, 'kebaikan': 1827, 'sanksi': 3910, '885': 209, '167': 32, 'menutup': 2660, '192': 40, 'melanggar': 2361, 'xa0umkmsecara': 4868, 'realisasi': 3788, 'xa0tersebut': 4863, 'tersalurkan': 4404, 'rp21': 3845, '86': 206, 'hampir': 1459, 'banpres': 494, 'tahap': 4262, 'dianggarkan': 961, 'rp22': 3846, 'sedangkan': 3970, 'lanjutan': 2137, 'coba': 849, 'dech': 919, 'bermanfaat': 639, 'membutuhkan': 2419, 'cuma': 869, 'menyerap': 2678, 'ndiperlukan': 2908, 'menang': 2467, 'ndan': 2893, 'pre': 3663, 'mematuhi': 2387, 'taat': 4258, 'musim': 2808, 'nsemua': 3121, 'doakan': 1194, 'ntidak': 3139, 'larangan': 2145, 'menikmati': 2609, 'berekreasi': 593, 'pastikan': 3317, 'mengimbau': 2590, 'xa0saat': 4856, 'memanfaatkan': 2380, 'waktu': 4709, 'xa0libur': 4838, 'objek': 3184, 'kumpul': 2101, 'sumber': 4225, 'mementingkan': 2421, '9xzinf0a1w': 234, 'tertera': 4413, 'permudah': 3564, 'mengen': 2554, 'ratusan': 3780, 'nurhasa13565184': 3151, 'x92': 4786, 'xaa': 4883, 'perse': 3574, 'sebelumnya': 3956, 'memohon': 2432, 'kesiap': 1973, 'siagaan': 4104, 'daer': 886, 'xa0prokes': 4853, 'ntuk': 3141, 'sblm': 3930, 'knp': 2026, 'video2': 4680, 'setelah': 4087, 'nga': 2926, 'papalah': 3298, 'ad': 256, 'waspadai': 4725, 'xa0virus': 4872, 'njang': 2971, 'jelek': 1707, 'artinya': 407, 'belum': 555, 'angka': 370, 'penurunan': 3494, 'personel': 3579, 'menambahkan': 2465, 'ekst': 1265, 'patro': 3320, 'xa0job': 4833, 'creator': 862, 'wirausaha': 4742, 'ujar': 4576, 'penduduk': 3429, 'usia': 4647, 'tanah': 4271, 'menginginkan': 2593, 'milik': 2731, 'bis': 716, 'hambatan': 1456, 'pungutan': 3715, 'liar': 2186, 'integrasi': 1607, 'berikan': 606, 'pendirian': 3428, 'marketnya': 2307, 'menembus': 2510, 'anggka': 367, '400': 114, 'ribu': 3820, 'rabu': 3756, 'panambahan': 3283, 'peran': 3512, 'menegakkan': 2506, 'sangatlah': 3909, 'penting': 3489, 'pande': 3286, 'kegiatan': 1861, 'x8a': 4779, 'sambut': 3900, 'umkmsuburb': 4598, 'berlalu': 631, 'vvytr5yfve': 4689, 'mengembalikan': 2552, 'kondisi': 2043, 'normal': 3064, 'rerie': 3802, 'mengapresiasi': 2539, 'dijalankan': 1027, 'keseimbangan': 1963, 'antara': 380, 'kewajiban': 1999, 'melaksanakan': 2352, 'srategi': 4179, 'instrumen': 1603, 'relaksasi': 3794, 'klo': 2022, 'bisanya': 719, 'main': 2258, 'belakang': 544, 'membelinya': 2401, 'prioritas': 3669, 'strategis': 4202, 'bandara': 480, 'pelabuhan': 3346, 'stasiun': 4189, 'melal': 2355, 'has': 1474, 'akbp': 305, 'agung': 281, 'darmanto': 908, 'rutin': 3864, 'dimalam': 1064, 'siang': 4105, 'sama': 3897, 'dipatuhi': 1087, 'xa0lebih': 4836, 'mudahdalam': 2789, 'xa0perseroan': 4851, 'terbatas': 4334, 'pt': 3700, 'goyang': 1409, 'tipis': 4470, 'sambil': 3899, 'ntarik': 3132, 'siss': 4132, 'semongko': 4039, 'xa5': 4879, 'xb0': 4891, 'chateri': 829, 'xa0sertifikasi': 4861, 'xa0bagi': 4810, 'xa0tidak': 4865, 'dikenakan': 1042, 'bagia': 455, 'dijumlahkan': 1031, '64': 164, '70': 175, 'diantaranya': 962, 'bergelut': 597, 'industri': 1584, 'sampaikan': 3903, 'islamphobia': 1633, 'mengapa': 2538, 'meskipun': 2708, 'dilalui': 1050, 'sebentar': 3958, 'syariah': 4252, 'raksasa': 3763, 'tidur': 4452, 'concern': 853, 'membangkit': 2391, 'membangunkan': 2395, 'tertidur': 4415, 'dngn': 1193, 'enti': 1279, 'merujuk': 2705, 'penggabungan': 3457, 'merger': 2700, 'bank': 493, 'bri': 755, 'tb': 4290, 'diketahui': 1043, 'berbasis': 582, 'riil': 3821, 'memperlua': 2443, '13': 25, 'bi': 696, 'aba': 244, 'ter': 4324, 'npasal': 3077, '46dd': 121, 'nmanfaat': 3024, 'jamin': 1678, 'tingkat': 4468, 'diadakan': 952, 'webinar': 4733, 'bisnis': 720, 'lokakarya': 2211, 'pameran': 3281, 'njan': 2970, 'percuma': 3526, 'diikuti': 1023, 'mengenakan': 2557, 'masker': 2321, 'menj': 2621, 'men': 2461, 'berita': 611, 'numkm': 3145, 'ditanah': 1152, 'x86': 4775, 'nixmo': 2966, 'lalui': 2129, 'haru': 1471, 'optimalkan': 3225, 'monitoring': 2770, 'penyebaran': 3498, 'ntetap': 3138, '29': 79, 'dilaporkan': 1052, '565': 146, 'provinsi': 3693, 'terbanyak': 4332, '713': 177, '404': 115, '048': 6, 'berkat': 620, 'umkmsuburburuhmakm': 4604, 'digitalisasi': 1012, 'yugo79pati': 4966, '62': 162, 'setengahnya': 4089, 'target': 4285, 'bersertifikat': 661, 'masya': 2327, 'menyusul': 2686, '54': 144, 'kabupaten': 1763, 'beranjak': 575, 'zona': 4992, 'oranye': 3236, 'kemaritiman': 1895, 'buzzer': 788, 'penyebar': 3497, 'shanday': 4100, 'minimal_warm': 2738, 'murni': 2806, 'buatan': 765, 'yanh': 4936, 'dibut': 992, 'menggunakan': 2570, 'strain': 4200, 'berkarya': 619, '183': 37, 'antaranya': 381, 'menjalani': 2625, 'perawatan': 3519, 'hotel': 1505, 'sahid': 3882, 'jayapura': 1697, 'warga': 4719, 'terpapar': 4399, '692': 170, 'lestari': 2177, 'moerdijat': 2764, 'kewajibannya': 2000, 'seimbang': 3986, 'sela': 4012, 'terlambat': 4386, 'suatu': 4206, 'dipertahankan': 1104, 'kesembuhan': 1967, 'meningg': 2613, 'nyoman': 3172, 'antari': 382, '008': 1, 'sembuh': 4036, 'belakangan': 545, 'ujung': 4580, 'tombak': 4492, 'ngenerasi': 2934, 'teten': 4435, 'masduki': 2315, 'zaman': 4979, 'hmpir': 1502, 'dsgla': 1213, 'dri': 1209, 'it': 1636, 'hrus': 1511, 'brtransformasi': 758, 'kamis': 1777, 'aktif': 318, '569': 147, 'sementara': 4037, 'pemantauan': 3360, 'suspek': 4241, '68': 168, '888': 210, 'destinasi': 938, 'data': 910, 'konsistensi': 2054, 'mengantarkan': 2536, 'menuju': 2648, 'norma': 3063, 'kehidupan': 1865, 'ia': 1533, 'berkaca': 615, 'pertengahan': 3584, 'agustus': 283, 'lalu': 2128, 'menghasilkan': 2582, 'lonjakan': 2214, 'dua': 1216, 'pekan': 3338, 'berlangsung': 632, 'berhasil': 603, 'gagalnya': 1351, 'layanan': 2156, 'dilihat': 1058, 'mendatang': 2492, 'penerapan': 3436, 'testing': 4429, 'mencuci': 2482, 'pengukuran': 3471, 'suhu': 4216, 'wisatawan': 4744, 'periode': 3543, 'berinovasi': 609, 'umkmsub': 4595, 'xa0pt': 4855, 'xa0harus': 4828, 'membayar': 2398, 'xa0berbelit': 4813, 'xa0belit': 4812, 'perizinannya': 3545, 'teladan': 4304, 'bekasi': 536, '731': 179, 'depok': 936, '595': 149, '287': 78, 'utara': 4653, '277': 74, 'bogor': 737, '275': 73, '024': 3, 'manfaatkan': 2290, 'cakep': 801, 'nkerennnnn': 2994, '514': 140, '000': 0, 'kini': 2017, 'perhatian': 3535, 'utama': 4650, 'berikutnya': 608, 'luar': 2223, 'kek': 1872, 'gini': 1394, 'gede': 1371, 'dialokasikan': 958, 'nambah': 2844, 'berbuat': 587, 'patuh': 3322, '90': 219, 'ayat': 439, 'rang': 3772, 'terbebas': 4335, 'bnyknya': 734, 'maupun': 2339, 'terciptanya': 4350, 'dipermudah': 1100, 'nini': 2962, 'harapan': 1464, 'nterimakasih': 3137, 'keuntungan': 1998, 'bayar': 519, 'ncipta': 2888, 'untung': 4629, 'sejahterakan': 3989, 'bijak': 706, 'mengisi': 2594, 'virtual': 4682, 'tentunya': 4321, 'hemat': 1481, 'perlindungan': 3554, 'ketinggalan': 1994, 'layana': 2155, 'hasil': 1475, 'menuturkan': 2661, 'sistematis': 4134, 'berjalannya': 613, 'keseharian': 1959, 'dijadikan': 1025, 'mmg': 2752, 'somplak': 4166, 'bungul': 780, 'dibikin': 989, 'ditolak': 1165, 'nmaunya': 3030, 'santun': 3912, 'nmengungkapkan': 3039, 'nsbb': 3110, 'berkompetisi': 626, 'backbone': 450, 'tulang': 4532, 'punggung': 3713, 'disiapkan': 1133, 'npertama': 3089, 'penyiapan': 3508, 'infrastruktur': 1589, 'kedua': 1855, 'pendanaan': 3419, 'takut': 4267, 'seribet': 4069, 'adapun': 263, 'ryantangan': 3867, 'silakan': 4118, 'bergabung': 596, 'nurdinardian1': 3150, 'pahami': 3266, 'konteks': 2060, 'isu': 1635, 'bukanlah': 770, 'disaat': 1120, 'sepelekan': 4057, 'ak': 297, 'support': 4232, 'kenapa': 1919, 'jadinya': 1662, 'jaga': 1663, 'jarak': 1687, 'terkena': 4380, 'stay': 4192, 'safe': 3879, 'tolong': 4491, 'menolong': 2642, 'karenanya': 1792, 'ahmdfauzi131': 285, 'pastinya': 3318, 'maksimal': 2274, 'dikonsumsi': 1045, 'numat': 3144, 'merasakan': 2692, 'ketenangan': 1985, 'muhammad': 2790, '30': 92, 'bersih': 663, 'mafia': 2253, 'mohon': 2765, 'kesiapsiagaannya': 1974, 'timbulnya': 4458, 'kalster': 1774, 'tangguh': 4277, 'tuhan': 4528, 'amiin': 345, 'bebas': 529, 'menurutnya': 2659, 'terdampak': 4352, 'margiesaskia': 2303, 'hartanto': 1469, 'justur': 1755, 'memaparkan': 2383, 'amat': 339, 'sepakat': 4055, 'sulit': 4222, 'menjualnya': 2636, 'disahkannya': 1122, 'ditam': 1150, 'diaubsidi': 969, 'pemerin': 3382, 'sugi': 4215, 'diberi': 985, 'penduduknya': 3430, 'senhusen99': 4049, 'pembukaan': 3376, 'bagus': 458, 'bermamfaat': 638, 'sling': 4144, 'ngahargaan': 2927, 'membebaskan': 2399, 'manajemen': 2284, 'perry': 3571, 'melanjutkan': 2362, 'pembangunan': 3364, 'diarahkan': 964, 'skala': 4139, 'pesantren': 3599, 'dioptimalkan': 1081, 'optimalisasi': 3224, 'mas': 2312, 'anis': 375, 'nkenapa': 2993, 'warjiyo': 4721, 'thn': 4442, 'membaik': 2389, 'diminati': 1070, 'jepang': 1712, 'inggris': 1593, 'as': 410, 'muslim': 2809, 'sudahlah': 4213, 'tanya': 4282, 'umr': 4609, 'napakah': 2853, 'dbayarkan': 913, 'unggulan': 4616, 'sosialisasi': 4170, 'spt': 4176, 'sependapat': 4058, 'sederhananya': 3974, 'aset': 415, 'dilebur': 1056, 'melahirkan': 2350, 'obat': 3181, 'mujarab': 2795, 'lancar': 2133, 'roda': 3837, 'terbentuknya': 4337, 'seluas': 4026, 'tinggi': 4465, 'kriminalitas': 2086, 'minimal': 2737, 'negoisasi': 2919, 'penjajakan': 3480, 'menolak': 2640, 'pemahaman': 3358, 'terdapat': 4353, 'pertimbangan': 3585, 'memvaksin': 2460, 'suluruh': 4223, 'nsebagai': 3111, 'njuga': 2982, 'pena': 3403, 'uuck': 4660, 'dihadapkan': 1015, 'tekanan': 4301, 'tetapi': 4433, 'tanda': 4272, 'terasa': 4327, 'demikian': 925, 'fatwa': 1308, 'lbh': 2157, 'dll': 1185, 'nsehingga': 3114, 'jt': 1741, 'biasa': 700, 'byr': 793, 'salahudin': 3891, 'xa0di': 4824, 'kepulauan': 1934, 'bangka': 485, 'belitu': 553, 'umkmsuburburuh': 4600, 'pakde': 3274, 'lima': 2192, 'evaluasi': 1289, 'masyarakatnya': 2332, 'bermitra': 640, 'panjangnya': 3294, 'xa0melalui': 4839, 'mend': 2484, 'xa0sebesar': 4857, '46t': 122, 'ndana': 2894, 'xa0tsb': 4866, 'meninggal': 2614, 'sepekan': 4056, 'rata': 3779, 'telat': 4306, 'bangun': 491, 'keenakan': 1857, 'x81': 4770, '9t4q2rry4t': 230, 'perkembangan': 3549, 'arah': 400, 'alami': 326, 'menc': 2471, 'perketat': 3551, 'pengawasan': 3450, 'nselalu': 3117, 'dimanapun': 1066, 'cita': 841, 'kerukunan': 1952, 'perpecahan': 3570, 'menurtnya': 2655, 'oss': 3244, 'xa0adalah': 4806, 'hadiah': 1440, 'terindah': 4369, 'pelalu': 3349, 'berbelit': 585, 'belit': 551, 'insyaallah': 1604, 'nouna_jessica94': 3068, 'xbc': 4898, 'survey': 4234, 'top': 4495, 'mengadakan': 2522, 'mengenahi': 2555, 'kepercayaan': 1931, 'ekonom': 1259, 'institute': 1602, 'for': 1330, 'of': 3188, 'economics': 1243, 'and': 362, 'indef': 1577, 'bhima': 694, 'yudhistira': 4965, 'tumbangnya': 4534, 'xa0selam': 4859, 'nsayangi': 3109, 'memasuki': 2386, 'lepas': 2176, 'terdahulu': 4351, 'komitmen': 2036, 'skema': 4140, 'mengatur': 2543, 'tertentu': 4412, 'paruh': 3308, 'masyarak': 2329, 'xa0protokol': 4854, 'melonjak': 2368, 'gunakan': 1429, 'intinya': 1615, 'ketat': 1981, 'susah': 4238, 'pesangon': 3598, 'asiyap': 419, 'mantab': 2293, '_aiiechintya_': 236, 'kendala': 1920, 'rencana': 3797, 'omn': 3208, 'tangani': 4274, 'syaratnya': 4251, 'koq': 2068, 'ikutin': 1563, 'mengajukan': 2526, 'iumk': 1642, 'secar': 3966, 'dear': 918, 'majelis': 2263, 'bagian': 456, 'amin': 346, 'se': 3942, 'walau': 4712, 'sebal': 3949, 'yak': 4932, 'nselain': 3116, 'njika': 2977, 'nkumpul': 3006, 'bertransformasi': 676, 'platform': 3624, 'memperluas': 2444, 'beradaptasi': 567, 'semuanya': 4043, 'commerce': 852, 'masyrakat': 2333, 'dihimbau': 1021, 'xa0destinasi': 4823, 'dimohon': 1072, 'timbulny': 4457, 'diklaim': 1044, 'atasi': 429, 'reaktif': 3787, 'makanya': 2269, 'sebenarnya': 3957, 'memperba': 2436, 'oknum': 3203, 'hmm': 1501, 'ngeri': 2936, 'harusnya': 1473, 'menghindari': 2588, 'yok': 4954, 'masing': 2319, 'kena': 1916, 'korona': 2071, 'bangkitkan': 487, 'rlzjl420yz': 3832, 'tiap': 4448, 'dewalova_ieiend': 941, 'mendongkrak': 2500, 'deklarasi': 923, 'mengganggu': 2564, 'tolakkami': 4487, 'waspadakami': 4726, 'rugi': 3857, 'an': 352, 'kaya': 1815, 'sadar': 3878, 'perasaan': 3517, 'xa0cipta': 4815, 'nanti': 2849, 'xa0menyerap': 4846, 'konsume': 2056, 'keterbukaan': 1989, 'hoaks': 1503, 'disinformasi': 1135, 'callme_aiie': 803, 'peresiden': 3534, 'mewabah': 2712, 'dukungruubpip': 1221, 'perkuatpancasila': 3553, 'ma': 2245, 'x99ruf': 4794, 'pemain': 3359, 'negerinya': 2918, 'efek': 1246, 'domino': 1199, 'inte': 1605, 'formal': 1331, 'memahami': 2373, 'xa0menjadi': 4845, 'mahal': 2255, 'menepis': 2514, 'lantaran': 2139, 'keterbatasan': 1988, 'berbeda': 584, 'nada': 2829, 'datang': 911, 'indahlaeni03': 1576, 'demonstrasi': 928, 'point': 3638, 'xa0yang': 4874, 'xa0covid': 4816, 'xa0antara': 4809, '35': 100, '88': 208, 'penyedia': 3500, 'akomodasi': 312, 'kemudia': 1914, 'dikunjungi': 1047, 'dikelola': 1038, 'tiga': 4453, 'pemil': 3389, 'porsinya': 3650, 'tuan': 4524, 'nhal': 2942, 'om': 3207, 'sertfikasi': 4075, 'value': 4670, 'chain': 828, 'memacu': 2372, 'pertumbuhan': 3588, 'xa0produktif': 4852, 'pemersatu': 3387, 'muimitrapemerintah': 2792, 'proke': 3685, 'xa0secara': 4858, 'disubsidi': 1146, 'serius': 4072, 'ggmpx6zfkn': 1389, 'nproduktif': 3095, 'bertajuk': 669, 'komite': 2035, 'disisi': 1140, 'wakaf': 4706, 'populasi': 3649, 'jumbo': 1747, 'jok': 1731, 'sempat': 4040, 'video': 4679, 'konferensi': 2046, 'pers': 3572, 'diunggah': 1172, 'akun': 322, 'sekretari': 4006, 'penggunaan': 3462, 'tonggak': 4494, 'menjelang': 2633, 'larut': 2146, 'beraktivitas': 572, 'lalai': 2127, 'jara': 1686, 'himbauan': 1491, 'pedagang': 3332, 'kaki': 1767, 'pertokoan': 3587, 'beroperasi': 644, 'dini': 1079, 'xa0izin': 4831, 'mi': 2717, 'xa0pada': 4848, 'sebagainya': 3946, 'lenvre5akd': 2175, 'disusun': 1148, 'diperlukan': 1099, 'pencip': 3413, 'karo': 1797, 'penmas': 3486, 'divisi': 1176, 'humas': 1522, 'polri': 3646, 'brigjen': 756, 'pol': 3640, 'awi': 435, 'setiyono': 4092, 'covi': 858, 'bergulir': 600, 'mancanegara': 2286, 'dihrpkan': 1022, 'scr': 3937, 'leluasa': 2166, 'hambata': 1455, 'sekrng': 4009, 'negosiasi': 2920, 'nj': 2967, 'momen': 2767, 'adapt': 261, 'apbn': 395, 'mendag': 2487, 'lph': 2217, 'pemeriksaan': 3381, 'thdp': 4441, 'bpjph': 748, 'menyelenggarakan': 2674, 'xa0selama': 4860, 'tanggungjawab': 4279, 'rmh': 3833, 'yossywishnu': 4956, 'ndiharapkan': 2901, 'xa0dilakukan': 4825, 'perjanjian': 3547, 'pakistan': 3276, 'mozambik': 2775, 'palestina': 3277, 'malaysia': 2278, 'brunei': 759, 'dar': 902, 'konkret': 2049, 'legislasi': 2164, 'soebagyo': 4158, 'wibivam': 4735, 'berujung': 679, 'la': 2115, 'tindakan': 4461, 'x9c': 4797, 'pembe': 3366, 'bimodjogja': 711, 'ipin_toelen': 1623, 'tetaplah': 4434, 'dicurigai': 997, 'perolehan': 3568, 'pantauan': 3297, 'dilapangan': 1051, 'terhadapa': 4362, 'kesehatam': 1961, 'ndisiplin': 2909, 'zbnddmpeak': 4981, 'sasaran': 3917, 'dicitakan': 996, 'digali': 1009, 'nbanyak': 2869, 'inovasi': 1599, 'contohnya': 855, 'beku': 539, 'dibebani': 978, 'dulunya': 1224, 'membingungkan': 2414, '7jt': 190, 'org': 3239, 'kondisinya': 2044, 'mud': 2785, 'kuat': 2097, 'rgtmsfv3yx': 3812, 'npenegakan': 3085, 'dipulihkan': 1111, 'swiss': 4246, 'dufry': 1218, 'sorry': 4168, 'buru2': 781, 'ngeboikot': 2933, 'osp91jioup': 3243, 'npemerintah': 3082, 'sederhanakan': 3973, 'nsapu': 3107, '97': 223, 'hulu': 1521, 'hilir': 1489, 'rant': 3775, 'mencontohkan': 2481, 'bergerakydi': 599, 'sejak': 3991, 'terbiasa': 4340, 'online': 3218, 'adaptasi': 262, 'tegas': 4298, 'bimbingan': 710, 'teknis': 4302, 'legalitas': 2163, 'pengkajian': 3466, 'obatan': 3182, 'kosmetik': 2074, 'maj': 2260, 'kemenparekraf': 1905, 'segi': 3981, 'upgrading': 4635, 'lainn': 2121, 'pariwisata': 3306, 'kreatif': 2083, 'progressive': 3683, 'pengguna': 3461, 'transparan': 4505, 'asn': 421, 'perluasan': 3558, 'komersial': 2034, 'perbankan': 3521, 'lemba': 2168, 'terkendala': 4382, 'ikut2an': 1560, 'segala': 3978, 'ambil': 341, 'anggaran': 366, 'pola': 3641, 'xa0dapat': 4821, 'xa0akan': 4808, 'diinginkan': 1024, 'perjalanan': 3546, 'misalnya': 2746, 'terjerat': 4377, 'perkara': 3548, 'dibayarkan': 977, 'mendaftarkan': 2486, 'dimanfaatkan': 1067, 'xa0dalam': 4819, 'berbadan': 579, 'asasi': 413, 'kemenkumham': 1904, 'sabar': 3876, 'menahan': 2462, 'keinginan': 1868, 'nadalah': 2830, 'terhentinya': 4364, 'ntunda': 3142, 'hal2': 1450, 'sarimpat': 3915, 'terjamin': 4374, 'perlindungannya': 3555, 'desa': 937, 'netral': 2924, 'sekitarnya': 4004, 'keteduhan': 1982, 'tingginya': 4466, 'penyebab': 3496, 'enggannya': 1277, 'mereloka': 2698, '15': 28, 'isef': 1626, 'wujud': 4763, 'sentral': 4051, 'pilar': 3612, 'terwujud': 4428, 'label': 2116, 'tambah': 4268, 'sekadar': 3997, 'aspek': 424, 'nai': 2835, 'indones': 1580, '1uf3yptaks': 48, 'ek': 1257, 'krna': 2091, 'dipahami': 1082, 'inklusif': 1598, 'universal': 4620, 'nkemaslahatan': 2991, 'padang': 3263, 'tertinggi': 4418, '306': 93, 'timur': 4459, '663': 167, '202': 58, 'nbersama': 2878, 'nmemberi': 3033, 'peluang': 3356, 'sekretaris': 4008, 'lutfi': 2233, 'hamid': 1457, 'me': 2344, 'mengh': 2571, 'lapisan': 2144, 'nmasyarakat': 3028, 'nmaju': 3020, 'sedikit': 3975, 'tertata': 4411, 'daftarkan': 890, 'ktp': 2093, 'nagar': 2833, 'ojk': 3198, 'sarana': 3914, 'jawa': 1693, 'nkebijakan': 2988, 'penyelenggarayjamina': 3504, 'nlebih': 3011, '_tehai': 238, 'dirundung': 1119, 'ban': 478, 'kiat': 2014, 'npilih': 3091, 'relatif': 3795, 'nhindari': 2947, 'tertutup': 4423, 'dakwah': 893, 'non': 3058, 'mtuhasan02': 2782, 'berterimakasih': 673, 'extra': 1291, 'seputar': 4064, 'sabun': 3877, 'merasa': 2691, 'nyaman': 3165, 'zonasi': 4993, 'raih': 3761, 'asalkan': 412, 'tergolong': 4360, 'nyg': 3171, 'nongkrong': 3059, 'minum': 2742, 'bandrek': 482, 'jajanan': 1670, 'berani': 574, 'menegur': 2508, 'sudarno': 4214, 'prok': 3684, 'caranya': 809, 'apbd': 394, 'npendaft': 3083, 'terpojok': 4401, 'berdaya': 591, 'sejumla': 3994, 'iimbauan': 1550, 'ekstra': 1266, 'pulihkan': 3710, 'faktanya': 1303, 'membeli': 2400, 'urbaee_': 4640, '76zj71lexs': 181, '100': 19, '33': 96, 'eceran': 1242, '83': 200, 'pengolahan': 3467, 'd330kbabzl': 880, 'khususnya': 2011, 'akar': 304, 'rumput': 3861, 'nsetuju': 3124, 'xb2nya': 4893, 'digulirkan': 1014, 'pendayagunaan': 3423, 'aparatur': 393, 'devimanda5': 940, 'ketenagakerjaan': 1984, 'menaker': 2463, 'meski': 2707, 'terlibat': 4388, 'perang': 3514, 'terbukti': 4345, 'da': 885, 'fokus': 1327, 'yaa': 4929, 'andisadu': 364, '1993': 41, '1998': 42, 'sarwono': 3916, 'kusumaatmadja': 2107, 'optimistis': 3227, 'tren': 4509, 'sejuk': 3993, 'bersahaja': 656, 'diberdayakan': 983, 'bonus': 744, 'demografi': 927, 'mana': 2282, 'komposisi': 2039, 'bayangkan': 518, 'mempekerjakan': 2435, 'transformasi': 4504, 'elekronik': 1268, 'uniknya': 4618, 'sederhana': 3972, 'dampaknya': 897, 'hayu': 1479, 'himbara': 1490, 'menyalurkan': 2662, 'kredit': 2084, 'khawatir': 2007, 'menyebabkan': 2667, 'damai': 895, 'terjadinya': 4372, 'resesi': 3804, '20': 54, 'punya': 3716, 'follower': 1328, 'instagram': 1601, 'jutaan': 1757, 'mesthi': 2709, 'namamu': 2841, 'risiko': 3828, 'karna': 1795, 'dihasilkan': 1018, 'dirasakan': 1112, 'lebar': 2160, 'dwirama89009610': 1229, 'kovi': 2078, 'nsemangat': 3120, 'negri': 2921, 'rakyatnya': 3765, 'nkhusus': 2998, 'kesehat': 1960, '101': 20, 'dijelaskan': 1029, 'nihilnya': 2957, 'diatasi': 967, 'pemutusan': 3402, 'hubungan': 1514, 'dilindungin': 1060, 'sebaliknya': 3950, 'keluhan': 1887, 'tol': 4485, 'nontarif': 3060, 'disederhanakan': 1129, 'tergilas': 4359, 'penderitaan': 3426, 'tertindas': 4416, 'mengalokasikan': 2532, 'penyediaan': 3501, 'rangka': 3773, 'pemberdayaan': 3370, 'menanamkan': 2466, '79': 183, 'istirahat': 1634, 'implementasi': 1568, 'konsisten': 2053, 'memastikan': 2385, 'nyooo': 3173, 'sebarkan': 3953, 'sobat2': 4155, 'nhati2': 2946, 'dijalan': 1026, 'njaga': 2969, 'memulai': 2455, 'seenaknya': 3977, 'nphk': 3090, 'jateng': 1691, 'meluncurka': 2370, 'pertahun': 3580, '2016': 56, 'termurah': 4394, 'mengaitkan': 2523, 'tindak': 4460, 'kesalahan': 1956, 'menggerakkan': 2567, 'pesanan': 3597, 'alih': 332, 'lurik': 2232, 'story': 4198, 'endorse': 1274, 'ig': 1546, 'tema': 4308, 'ditengok': 1157, 'influencer': 1586, 'artis': 409, 'youtuber': 4958, 'selebgram': 4022, 'berfollower': 595, 'pranowo': 3661, 'poin': 3637, 'woro': 4760, 'sesara': 4081, 'offline': 3190, 'social': 4156, 'manekin': 2288, 'npd': 3080, 'sring': 4182, 'mngatakan': 2756, 'dirinya': 1115, 'mnjdi': 2757, 'bgi': 691, 'sandal': 3906, 'kehadiran': 1863, 'dinantikan': 1077, 'pulih': 3709, 'tersedia': 4408, 'mengunjungi': 2603, 'pemilik': 3390, 'ialah': 1534, 'meningkatnya': 2620, 'moral': 2771, 'dibanding': 972, 'rptka': 3852, 'diperketat': 1094, 'senang': 4045, 'lingkupnya': 2197, 'ormas': 3241, 'tuturnya': 4548, 'dipersoalkan': 1102, 'mengedepankan': 2548, 'kesatuan': 1958, 'karyawan': 1799, 'korban': 2069, 'menghapus': 2577, 'pembatasan': 3365, 'sinyal': 4126, 'pondasi': 3647, 'dibutuhkan': 993, 'berpikiran': 652, 'kolot': 2033, 'menambah': 2464, 'npotensi': 3092, 'si': 4102, 'belitnya': 552, 'susahnya': 4239, 'pelicin': 3354, 'jatah': 1690, 'preman': 3664, 'ampun': 350, 'sepersen': 4060, 'umkms': 4592, 'manfaatnya': 2291, 'flesibilitas': 1322, 'terlaksana': 4384, 'memprioritaskan': 2449, 'disimak': 1134, 'npendampingan': 3084, 'ucapan': 4561, 'sikap': 4116, 'sebaiknya': 3948, 'berhenti': 604, 'tuntut': 4541, 'menuntut': 2654, 'supaya': 4230, 'jahat': 1667, 'pasok': 3315, 'tersedianya': 4409, 'ragu': 3759, 'layaknya': 2154, 'pemilu': 3392, 'calon': 804, 'kluarga': 2024, 'wabah': 4696, 'mensejahterakan': 2643, 'turki': 4543, 'tunisia': 4539, 'bangladesh': 488, 'iran': 1625, 'maroko': 2310, 'teluk': 4307, 'eurasia': 1288, 'jalankan': 1675, 'amanah': 338, 'nmembuat': 3034, 'perseorangan': 3577, 'siapapun': 4110, 'xa8': 4881, 'rberkembang': 3782, 'terlindungi': 4389, 'diuntungkan': 1173, 'jkp': 1728, 'lembur': 2172, 'diajukan': 954, 'x97': 4789, 'berupa': 680, 'penerapannya': 3437, 'dikawal': 1037, 'dijamin': 1028, 'pemasaran': 3361, 'noptimis': 3061, 'jam': 1676, 'keagamaan': 1824, 'entitas': 1280, 'sampe': 3904, 'politisi': 3645, 'partai': 3307, 'golkar': 1407, 'ranah': 3771, 'angin': 369, 'segar': 3979, 'isinya': 1629, 'kehalalan': 1864, 'ptn': 3701, 'permintaan': 3562, 'lawanhoaxomnibuslaw': 2153, 'depannya': 935, 'haknya': 1448, 'menjawab': 2632, 'dimasa': 1068, 'kedepan': 1852, 'ningat': 2961, 'nkerja': 2995, 'mencari': 2473, 'menyeluruh': 2676, 'bersatu': 659, 'efektivitas': 1248, 'menjamur': 2629, 'perundang': 3590, 'undangan': 4614, 'xa0jangan': 4832, 'wanita': 4717, 'menyelamatkan': 2673, '160': 31, '916': 220, '645': 165, 'pos': 3651, 'pengamanan': 3444, 'pengembalian': 3453, 'jitu': 1725, 'penolakan': 3487, 'ringkas': 3825, 'secepatnya': 3968, 'merubah': 2703, 'bisnisnya': 721, 'packaging': 3260, 'branding': 753, 'pemasarannya': 3362, 'konvensional': 2062, 'usai': 4646, 'keberadaan': 1834, 'konsep': 2052, 'diperbaiki': 1089, 'diperuntukkan': 1105, 'memasarkan': 2384, 'produknya': 3674, 'xa0https': 4829, 'besaran': 686, 'berpeluang': 645, 'imbau': 1567, 'sepenuhnya': 4059, 'dipandang': 1084, 'melainkan': 2351, 'nlibur': 3016, 'masy': 2326, 'mendatangkan': 2493, 'duluuu': 1225, 'penuh': 3492, 'didasari': 999, 'mekanisme': 2348, 'baku': 475, 'penanggulangan': 3407, 'ideal': 1539, 'berpihak': 650, 'tps': 4500, 'kemenkopukm': 1903, 'sini': 4124, 'faridboncell': 1304, 'dilindungi': 1059, 'penggerak': 3460, 'kg': 2002, 'madu': 2251, 'maduhutan': 2252, 'bego': 535, 'ramai': 3767, 'kesepakatan': 1969, 'bea': 526, 'jambi': 1677, 'nlebah': 3010, 'hutan': 1523, 'nhasil': 2945, 'panen': 3289, 'nvarian': 3158, 'sebelah': 3954, 'nmadu': 3019, 'pahit': 3267, 'nkadar': 2984, 'hd2becun5e': 1480, 'terapkan': 4326, 'memutus': 2459, 'nkesadaran': 2996, 'olahan': 3205, 'masuknya': 2325, 'gelombang': 1375, 'panasan': 3284, 'ehh': 1253, 'pulang': 3707, 'sana': 3905, 'umkmsuburburuhmakmu': 4605, 'festival': 1312, 'literasi': 2201, 'gelar': 1374, 'termakan': 4390, 'semangat': 4033, 'indonesiamaju': 1582, 'otomatis': 3245, 'kerap': 1941, 'nmelalui': 3031, 'atura': 432, 'napas': 2854, 'bumi': 777, 'nusantara': 3154, 'kebudayaan': 1843, '1vmlv1fx8i': 52, 'xpe': 4915, 'keberagaman': 1835, 'ruubpip': 3866, 'tolakkhilafah': 4488, 'hendriyana24_': 1483, 'hasilnya': 1476, 'khhhlls1da': 2008, 'massal': 2323, 'memaknai': 2377, 'framing': 1333, 'disruption': 1143, 'sesat': 4082, 'ncatatan': 2884, 'kritis': 2088, 'rheinald': 3813, 'kasali': 1801, 'rhenald_kasali': 3814, 'tadjuddin': 4260, 'noer': 3053, 'effendi': 1250, 'tenafa': 4314, 'tenags': 4316, 'ujarnya': 4578, 'bareng': 506, 'mengejar': 2549, '531': 143, 'paket': 3275, 'sembako': 4034, 'wni': 4755, 'ln': 2205, 'ciptakan': 838, 'edukasi': 1244, 'apa2': 387, 'gr': 1411, 'xef': 4906, 'xb8': 4895, 'adat': 264, 'sepihak': 4062, 'dimusuhi': 1076, 'kebijakannya': 1842, 'mengeruk': 2561, 'dibalik': 971, 'nudah': 3143, 'dilarang': 1053, 'gaess': 1349, 'dibuat': 991, 'selesai': 4024, 'npengesahan': 3086, 'willona_007': 4741, 'mienz65': 2722, 'sweetsutisna': 4245, 'alasan': 327, 'lulus': 2229, 'kuliah': 2100, 'nggak': 2937, 'merajalela': 2690, 'muipelayanumat': 2793, 'mengawal': 2544, 'aspirasi': 425, 'muncul': 2802, 'penghambat': 3464, 'laju': 2123, 'bahan': 461, 'melukai': 2369, 'lintangterakhir': 2199, 'tolak': 4486, 'ataupun': 431, 'memberantas': 2405, 'mwndukung': 2814, 'nrasakan': 3099, 'memikirkan': 2425, 'beri': 605, 'xbe': 4900, 'kebanyakan': 1830, 'frontliner': 1337, 'bertemu': 671, 'customer': 872, 'sdgkan': 3940, 'dibatasi': 975, 'nimbas': 2959, 'x9a': 4795, 'clcar2cxhs': 844, 'katadatacoid': 1808, 'hemm': 1482, 'berakhir': 570, 'suryono46350704': 4237, 'myozhyme': 2820, 'nprogram': 3096, 'pere': 3530, 'nselama': 3118, 'lakukanlah': 2126, 'x8e': 4783, 'sukseskan': 4219, 'ttelisik': 4519, 'mk': 2751, '10iqzccgrc': 22, 'ynhmdhg3w2': 4953, 'fachrie1985': 1300, 'uguxk9h4bu': 4572, 'bnyak': 732, 'krja': 2089, 'mendampingi': 2489, 'apyygbwtci': 399, 'nnapas': 3051, 'memng': 2431, 'siap2': 4108, 'rame': 3770, 'perhtikan': 3536, 'point2': 3639, 'kpntingan': 2081, 'rkyat': 3831, 'anisabaru1': 376, 'nsukseskan': 3129, 'hrga': 1509, 'trjngkau': 4513, 'binsar': 713, 'adek2': 265, 'koper': 2065, 'akademisi': 301, 'sosiologi': 4171, 'fisipol': 1320, 'ugm': 4570, 'oy7l22hq': 3252, 'anakbadakk': 356, 'nterapkan': 3136, 'divhumas_polri': 1175, 'sinergi': 4123, 'lawan': 2152, 'qj': 3735, 'nditengah': 2910, 'konsu': 2055, 'produks': 3675, 'standar': 4186, 'berdampa': 588, 'pemerinta': 3383, 'nyu': 3174, 'radikal': 3757, 'pula': 3706, 'batikriwa': 514, 'mrk': 2778, 'maritim': 2305, 'nbagi': 2865, 'kop': 2064, 'meng': 2521, 'undangkan': 4615, 'panga': 3290, 'rmiryanti': 3834, 'muannas_alaidid': 2784, 'p_irwant': 3258, 'ogut': 3192, 'reflyhz': 3789, 'titel': 4472, 'dagang': 891, 'kamper': 1779, 'informal': 1587, 'menempatkan': 2511, 'perannya': 3516, 'memancing': 2379, 'kemarahan': 1892, 'dirubah': 1116, 'pantau': 3296, 'latar': 2148, 'senjata': 4050, 'nasionalisme': 2859, 'menarik': 2470, 'cinta': 834, 'keadaan': 1821, 'tekan': 4300, 'melanda': 2360, 'penghalang': 3463, 'bagai': 452, 'mimpi': 2732, 'bertambah': 670, 'parekraf': 3304, 'menggelar': 2565, 'to': 4478, 'ra': 3755, 'wong': 4759, 'bodoh': 736, 'menkop': 2639, 'dibenahi': 981, 'intoleran': 1616, 'menggabungkan': 2562, 'payung': 3325, 'iku': 1558, 'pasien': 3314, 'itdp': 1637, 'ambyar': 343, 'beneer': 558, '4nies': 130, 'new': 2925, 'marv3lll': 2311, 'laundry': 2149, 'kelihatan': 1883, 'kegagalan': 1859, 'oran': 3231, 'menuai': 2646, 'perek': 3531, 'terimakasih': 4367, 'ntelah': 3134, 'penjarakan': 3483, 'nur': 3149, 'musuh': 2810, 'mus': 2807, 'tantangan': 4281, 'aksesnya': 314, 'akibatnya': 310, 'nmenengah': 3036, 'fase': 1305, '2030': 62, 'catatannya': 812, 'diganti': 1010, 'alokasi': 335, 'buktinya': 774, 'mie': 2721, 'ayam': 438, 'ujuk': 4579, 'jajan': 1669, 'getok': 1386, 'tular': 4533, 'kedatangan': 1851, 'meningk': 2615, 'doniang41818405': 1201, 'gerakkan': 1382, 'masif': 2317, 'radikalisme': 3758, 'komunisme': 2041, 'mempercepat': 2439, 'rp28': 3847, 'menghajar': 2575, 'suplai': 4231, 'mna': 2755, 'gabener': 1345, 'islamparano': 1632, 'logika': 2208, 'berpikirnya': 653, 'situ': 4136, 'susanyuli3': 4240, 'pemerintahnya': 3386, 'mewacanakan': 2713, 'disebutkannya': 1128, 'angkatan': 371, 'pekerkjaan': 3344, 'lama': 2130, 'tempatnya': 4313, 'gulung': 1426, 'tikar': 4455, '26': 71, 'didapatkan': 998, 'un': 4612, 'woelannnn': 4758, 'mulanbilqis': 2798, 'widyarenee': 4737, 'jenk__kelin': 1711, 'inilah': 1596, 'catatan': 811, 'gross': 1417, 'national': 2862, 'gni': 1402, 'kapita': 1789, '2019': 57, '050': 7, 'dollar': 1196, '840': 204, 'mengenalkan': 2559, 'dokter': 1195, 'spesialis': 4173, 'dirga': 1113, 'sakti': 3888, 'rambe': 3768, 'mobilitas': 2760, 'n1ckeff': 2823, 'happy': 1462, 'import': 1570, 'halah': 1451, 'xa0cukup': 4818, 'staf': 4185, 'daerahnya': 888, 'perdagan': 3527, 'sebua': 3962, 'xa0bertujuan': 4814, 'teta': 4430, 'perlukan': 3559, 'merawat': 2694, 'ntau': 3133, 'susu': 4242, 'jembatan': 1708, 'npaling': 3074, 'meow_leader': 2687, 'kasubdit': 1805, 'bid': 704, 'nebivaokvz': 2915, 'nkolaborasi': 3001, 'berlanjut': 633, 'bersifat': 662, 'traceability': 4503, 'sia': 4103, 'legislator': 2165, 'nasdem': 2856, 'diterapkan': 1159, 'mendapat': 2490, 'peduli': 3333, 'berinvestasi': 610, 'cantik': 805, 'sayangnya': 3926, 'nkrna': 3005, 'integr': 1606, 'kurikulum': 2106, 'kewirausahaan': 2001, 'terbentuk': 4336, 'nmau': 3029, 'nsangat': 3106, 'mengajarkan': 2525, '51': 139, 'ump': 4608, 'f2ejfftuto': 1296, 'diperbarui': 1090, 'menyeimbangkan': 2671, 'umeorprqwi': 4588, 'iehi8dtfcy': 1543, 'hubunganya': 1516, 'kagar': 1766, 'gembiranya': 1378, 'ndibawah': 2899, 'pn3rn0ba5o': 3634, '34': 97, 'proyek': 3696, 'sby': 3934, 'bapaknya': 502, 'vqgyme9thy': 4687, '23zypjy1cb': 67, 'diajak': 953, 'acting': 254, 'ywmv9q7mwh': 4973, 'x0lcvjk9hb': 4767, 'prestasinya': 3667, 'pendukung': 3431, 'oposisi': 3223, 'berdoa': 592, 'patah': 3319, 'iman': 1565, 'dikabulkan': 1033, 'shalat': 4099, 'masi': 2316, 'menghayal': 2583, 'belagak': 540, 'n2024': 2824, 'optryex9pj': 3228, 'dmapv2zbdq': 1188, 'uqvkows34x': 4639, 'gratiskan': 1416, 'qv9fmd6wsz': 3741, 'm0jweppjgy': 2239, 'penjelasan': 3484, 'spesimen': 4174, 'dites': 1162, '317': 94, '8abryvx2c7': 211, 'drastis': 1208, '169': 33, '833': 201, 'heofvmquzn': 1484, 'ohxxv0jlf9': 3197, 'gejala': 1373, 'clfkkdevse': 845, 'ycs8rvdnvf': 4940, 'nkurangi': 3008, '5taowgjhov': 157, '2021': 60, 'nharus': 2944, 'taati': 4259, 'uctznzahfb': 4563, 'geuwrkbloa': 1387, 'pekannya': 3340, 'pengawalnya': 3449, 'dz4x8vzhvi': 1233, 'selatan': 4021, '047': 5, 'barat': 505, '951': 222, 'pekanbaru': 3339, 'sembarangan': 4035, 'distribusi': 1145, 'tergesa': 4358, 'gesa': 1385, 'e0rmglwino': 1236, 'nprokes': 3097, '3718y1tshv': 102, 'anjaiyyyyy': 377, 'ohhh': 3195, 'bgtu': 693, 'kedisiplinan': 1854, 'rindu': 3824, 'call': 802, 'nlewat': 3014, 'vc': 4673, 'czugoalfq6': 877, 'rbiyf8j2np': 3783, 'basmi': 510, 'x9b': 4796, '029': 4, '483': 123, 'konfirmasi': 2047, 'nliburan': 3017, 'naman': 2842, 'jgmjjffaca': 1718, 'kericuhan': 1945, 'inti': 1614, 'permasalahan': 3561, 'diselesaikan': 1131, 'tersampaikan': 4405, 'j9lagdxutr': 1659, 'l03wodmpvq': 2112, '3eix7cqcku': 106, 'ben': 556, 'sngnehdude': 4148, 'prosentase': 3688, 'kgblllne20': 2003, 'nx4s6choqq': 3160, 'uae6ka7scw': 4557, 'jfhikec0i9': 1714, 'fgvnamacs2': 1314, 'xja0tdq0xf': 4911, 'kukakperuf': 2099, 'nacikitdaniel': 2828, 'kapanpun': 1788, 'perdamaian': 3529, 'contoh': 854, 'mempersatukan': 2447, 'suku': 4220, 'bangsan': 490, '7grqzrugak': 188, 'i7ruh2b4tw': 1531, 'vf4hfgdkmu': 4676, 'qxlfhaityy': 3743, 'uqsjfmv6om': 4638, 'menggandeng': 2563, 'lembek': 2171, 'buah': 763, 'pikir': 3611, 'bernama': 643, 'michael': 2718, 'alexander': 328, 'ginting': 1395, 'dipost': 1106, '3bd2ke4dbw': 104, 'lzoilx1rfu': 2237, 'mamposs': 2280, '8rjukpitml': 217, 'berangsur': 573, 'ndidorong': 2900, 'fiskal': 1321, 'pdt51tftag': 3327, 'boagrjcadw': 735, 'fnu12ztirw': 1326, 'hfcbqaq1fe': 1485, 'xowy6f5tdn': 4914, '4vzcbh6ng0': 136, 'kawal': 1813, 'uqpo45bzas': 4637, 'jurnalrisa': 1751, 'ef3avgfgxc': 1245, 'penentuan': 3435, 'majalis': 2261, 'ser': 4065, 'nangan': 2847, 'iupsrb3pc7': 1643, 'gaswat': 1364, 'bansos': 495, 'x6lsgcpyqi': 4768, 'nmasih': 3027, 'ngotot': 2940, 'iw4jsdyjxe': 1645, 'terhasut': 4363, 'xa0mendapatkan': 4840, 'selanjutnya': 4020, 'intelektual': 1610, 'haki': 1447, 'te': 4295, 'nkrn': 3004, 'trbukti': 4508, 'trhubung': 4510, 'mmiliki': 2753, 'dtengah': 1215, 'd9y02v4srx': 884, 'menyulitkan': 2683, 'efesien': 1249, 'blji5mihfl': 726, 'pz3fynqw8i': 3723, 'yp68odx1uy': 4961, 'udcupks8nd': 4566, 'nprnyataan': 3094, 'abangbelneg': 248, 'npatuhi': 3079, 'nawas': 2863, 'anarki': 357, 'nyups': 3176, 'gambang': 1355, 'bzhypd0nez': 795, 'ctndbyizms': 864, 'bisah': 718, 'bandel': 481, 'hajar': 1445, 'qzcw4exd2r': 3749, 'slg': 4143, 'hprk83mayi': 1507, 'menciptkan': 2478, 'nwaspada': 3159, 'ronnw7vlrp': 3838, 'silih': 4120, 'memuji': 2454, 'anarkis': 358, 'ditertibkan': 1161, 'zwuj6amv7k': 4996, 'nia': 2951, 'd46205c3xp': 882, 'sja': 4138, 'pirwjfeup6': 3622, 'dj4xqaxjkk': 1179, 'acuhdfujpu': 255, 'k8ldr9rigw': 1759, 'cibpnxd7ht': 833, 'w4tjcj1psg': 4692, '4mr8vo08i6': 127, 'jugah': 1745, 'nganggur': 2929, 'sianya': 4106, 'sip': 4127, 'ncsoyyowz6': 2889, 'xa0gratis': 4827, 'kelembagaan': 1882, 'penangan': 3405, '7iylxwj160': 189, 'ketanah': 1980, 'mo3ki6bh82': 2759, 'iyy4wwwn18': 1651, 'fresh': 1335, 'graduate': 1412, 'penggangguran': 3458, 'kekurangan': 1877, '9l8shke21j': 228, 'qpac6ttmcu': 3740, 'wauw': 4727, '5cnnidyq8p': 151, 'kock': 2029, 'hadehhh': 1439, 'offside': 3191, 'benggak': 561, 'utg6mr3b7o': 4655, 'ntujuan': 3140, 'mj8zyi5qzr': 2748, 'alhamdulilah': 329, 'bingung': 712, 'kerjaan': 1948, 'risau': 3826, 't7ifagtige': 4257, 'mikaylazara1': 2726, 'kesadaran': 1954, 'warganya': 4720, 'ycreoozyce': 4939, 'makhluk': 2270, 'nyfvcqzffr': 3170, 'm038aoooql': 2238, 'jarang': 1688, 'penguru': 3473, 'qxxqmptelu': 3746, 'axkky7i4s1': 436, 'nasya_fara': 2861, '2fzvbnve8w': 82, 'penguasa': 3468, 'ptokes': 3702, '283': 77, '2utybbsqbi': 86, 'rbuv0sbggn': 3784, 'ddavidya': 914, '3ouvvclagy': 111, 'siramkang': 4129, 'ftbtpdhbyf': 1338, 'massa': 2322, 'szaorjkjjr': 4255, 'ut6xvoiyno': 4649, 'jokowiahok': 1735, 'adsqlsmcng': 271, 'tslqyxm6i5': 4518, 'ibkimgrmkb': 1535, 'milenatifa': 2729, 'q7fxz2zvrj': 3727, 'qvtmtwtfle': 3742, 'pezezkgsij': 3605, 'ogwkev5tfl': 3193, 'ssagat': 4183, 'coxvd8tv9x': 861, 'qinz81dfcd': 3734, 'kecele': 1848, 'enexssfuuh': 1275, 'wodxotudoa': 4757, 'pniuws82xz': 3635, 'kzgye5g5pk': 2110, 'nhnuxqgsaw': 2948, '7bgmbrcv1u': 184, 'yoxs4ezwq9': 4960, 'gu5p9f9j6o': 1420, 'j3ciht9uaz': 1656, 'jbnbeh3qi0': 1699, 'qgavwwloxa': 3733, 'bersyukur': 667, 'melaluai': 2357, 'w9u7soeugd': 4694, 'nsolusi': 3127, '14wdbzaoff': 27, 'mekxwx8kn3': 2349, 'gofar': 1406, 'novi': 3071, 'are37qo68r': 401, 'plqmfxnyuv': 3630, '0t3ibfoxqj': 16, 'qckuriupaj': 3729, '91jjyqyczi': 221, 'scqypxnskt': 3936, 'dfnp5r3kct': 943, 'hqmd37mwnx': 1508, 'berkaitan': 617, 'ovc5etlhjh': 3249, 'zxnfxfobuc': 4998, 'r64h6y1bqt': 3753, 'ytghk2i4lb': 4964, 'nmari': 3026, 'buktikan': 773, 'eyj8bzsggc': 1293, '8dzc5ars62': 212, 'anarkisme': 359, 'ssjnn53gmr': 4184, 'ubmbr7u7fg': 4559, 'mwkvzsrvrh': 2813, 'eqhopsxnuv': 1283, 'lyhvdy5zru': 2235, 'artiq67i2i': 408, 'nitulah': 2964, 'e2t7nzwyls': 1239, 'wt9wu0bpba': 4762, 'g8xv6g49pf': 1343, 'qbev19lzgs': 3728, 'mendaftar': 2485, 'cdlgbzxjkl': 816, 'meningkatkanya': 2619, 'sek': 3996, 'xadtor': 4888, 'xadda': 4886, 'sema': 4030, 'xadkin': 4887, 'tlah': 4475, 'lslam': 2221, 'prsatuan': 3697, 'antarumat': 383, 'h1rikp2f2b': 1436, 'dzotburn2t': 1234, 'zczcrpvr5p': 4982, 'halangan': 1454, 'rekreasi': 3793, 'nnamun': 3050, 'melalaikan': 2356, 'ttp': 4520, '4rquldy24y': 134, 'medis': 2346, 'berjuang': 614, 'garis': 1362, 'kinerja': 2016, 'xbdoxrsjsf': 4899, 'perincian': 3540, '627': 163, 'banten': 496, '345': 98, 'riau': 3818, '238': 66, '234': 65, '184': 38, 'snnqxapqqn': 4151, 'nlepas': 3013, 'tingbmhpug': 4463, '7uvkcwwuhx': 192, 'dialami': 957, 'mingguan': 2734, 'sumatera': 4224, 'sulawesi': 4221, 'nusa': 3152, 'tenggara': 4318, 'c1qeukn8ef': 796, '322': 95, '248': 69, '81': 199, '49': 124, 'uvurkpbwho': 4661, 'mpfdxmx8og': 2776, 'jenjang': 1710, 'karir': 1794, 'gpnnxmq2op': 1410, 'harganya': 1466, 'kocek': 2028, 'lesu': 2178, 'nbcgfqmmwr': 2871, 'pemicu': 3388, 'pecahnya': 3330, 'xq9vehphzw': 4917, 'l6uhobdont': 2114, 'keterangan': 1987, 'center': 821, 'graha': 1413, 'bnpb': 731, '8leyp4a4kc': 214, 'mengharapkan': 2579, 'z4cyaairao': 4976, '520': 142, '685': 169, 'torehan': 4496, '84': 203, 'selisih': 4025, 'disayangkan': 1126, 'memprovokaai': 2451, 'menyulut': 2684, 'caci': 799, 'maki': 2271, 'bahasa': 463, 'elok': 1270, 'didengar': 1001, 'm2hofpjenr': 2240, 'meningkatakan': 2617, 'seluruhnya': 4028, 'aib': 287, 'ustegbkb9z': 4648, 'bermain': 637, 'mempersulit': 2448, '97ggvyg03g': 224, 'ybwik2h7sg': 4938, 'mmnevvm90w': 2754, 'llv1ymybf3': 2204, 'x98meneruskan': 4791, 'x98mengklaim': 4792, 'wivbwcpmnh': 4745, 'qzyjujgzox': 3750, 'sb4w0gkaap': 3927, 'f6ba5a65wv': 1299, 'iud6gzvqa4': 1641, 'dmtn2xrn7o': 1190, 'jmi7orki9p': 1729, 'ayok': 441, 'yil14k47ac': 4945, '1uziivhjrg': 51, 'keseluruhannya': 1966, 'setengah': 4088, 'a5wjosmosv': 240, 'darisegi': 907, 'wko6r92zui': 4748, 'wluexwhxaw': 4753, 'y3nmbtq3kp': 4926, 'x9calhamdulillah': 4798, 'gflis2k5xi': 1388, 'byj1usx8ac': 791, 'mgsy6vivyj': 2716, 'mov0hddt9h': 2773, 'xnpjvqc2st': 4912, 'dirumuskan': 1118, 'tqzk2zn501': 4501, 'okjregbw3d': 3202, 'kolaborasi': 2032, 'ctcygsnzad': 863, 'mengambil': 2533, 'inisiatif': 1597, 'jawabnya': 1696, 'membentuk': 2404, 'komunitas': 2042, 'reseller': 3803, 'lanjutnya': 2138, 'pengemasan': 3452, 'kebersihan': 1839, 'terjaga': 4373, 'model': 2762, 'zip': 4985, 'lock': 2207, 'terbaru': 4333, 'selera': 4023, 'j1iszyh4q4': 1655, 'x9cdengan': 4799, 'survive': 4236, 'a4qpqhrnfn': 239, 'tp6ulmujys': 4499, 'xa0pandemi': 4849, 'pqoyfk8yzy': 3657, 'eq7qtqm4ru': 1282, 'iye8rcc3vd': 1649, 'iyyoxz8co6': 1652, 'diutamakan': 1174, '7zpz6oubtu': 198, 'gl90ysnx2z': 1399, 'sayang': 3924, 'siapin': 4111, 'lamaran': 2131, 'z9jzlow78n': 4978, 'mwztqqetfl': 2815, 'keaehatan': 1823, 'kegiatam': 1860, 'vkourelgty': 4684, 'terbukanya': 4344, 'njlvmweimz': 2979, 'ninsya': 2963, 'terebas': 4356, 'nivmoc0qg0': 2965, 'ua8orxgrb4': 4556, 'shagov99': 4098, 'nolak': 3055, 'lohhh': 2210, 'nasib': 2857, 'dld3szcxoa': 1184, 'menghargaj': 2581, 'jd6nsq3mg6': 1701, 'tertib': 4414, 'zdkwos2v3e': 4983, 'hati2': 1478, 'rq2g4krs54': 3853, 'terbit': 4341, 'didukung': 1005, 'v20aac57zt': 4666, 'kecerobohan': 1849, 'membahayakan': 2388, 'oranglain': 3235, 'ykd7zix9iq': 4947, 'll1v1aaywf': 2202, 'serentak': 4068, 'pilkadadamai': 3616, 'jujur': 1746, '7xjml9zvgu': 194, 'sep': 4054, 'jumlahnya': 1750, 'didunia': 1006, 'memerlukan': 2423, '70xvyopnlq': 176, 'kosmetika': 2075, 'majel': 2262, 'xgvmjnfosg': 4908, '9vamb5jjou': 232, 'u8gdjm1v9w': 4553, '7dhkoy6r37': 186, 'aduh': 273, 'menolaknya': 2641, 'nyusahin': 3177, 'dqg6fi9sut': 1206, 'bukannya': 771, 'korklpmbqw': 2070, 'perangi': 3515, 'membangkitan': 2392, 'hlheiq9g0c': 1500, 'n0zxtnija5': 2821, 'menyiapk': 2680, 'maupu': 2338, 'basmicovid': 511, 'utamakankeselamatanrakyat': 4652, 'ygok2rmmaj': 4944, 'wlo2cfyk6f': 4752, 'kare': 1790, 'diperkirakan': 1095, 'papuaindonesia': 3300, 'gyar9nwtzi': 1434, 'asistennya': 418, 'tingkah': 4467, 'x85': 4774, 'ybmdyr0pqp': 4937, 'sti': 4194, 'outsourcing': 3248, 'kontrak': 2061, 'seumur': 4094, 'ttzbosdyww': 4521, 'dyqalx3raz': 1232, 'ag': 276, 'menjalin': 2627, 'bertolerensi': 675, '15xqm1utu7': 29, 'menyambung': 2663, 'xa0teten': 4864, 'xa0menegaskan': 4841, 'xa0merupakan': 4847, '6npjwvpeqa': 172, 'dukungruuciptakerja': 1222, 'untukpekerja': 4627, 'sv3gjrxrvw': 4243, 'sopan': 4167, 'emak2': 1271, '2zemgq3cyq': 91, 'mikr': 2727, 'jera': 1713, 'puzc9o4pgd': 3721, 'oomzzdwyhq': 3219, 'jhqnlw7pyr': 1720, 'hywjrrxdkk': 1529, 'ddx9ao4atv': 916, 'efoqqc5jxr': 1252, 'ymn1bnzlfc': 4952, 'den': 929, 'risytycnuy': 3829, 'qyocjpc1or': 3748, 'uzpwqq7oxi': 4664, '9uwzxqem7h': 231, 'u9sah6nucg': 4555, 'bwd6xbqipy': 790, 'reqruqqfae': 3800, '4mzgqfsdkr': 128, 'turv31ufrm': 4546, 'wjhkukfxau': 4747, 'hyqmdmtr8y': 1528, 'oqn148udfl': 3230, 'penda': 3416, 'persentase': 3576, 'pangsa': 3292, 'dfm0umalaw': 942, 'wihh': 4738, 'njqqf1lw47': 2981, '7yask3mwa9': 196, '55awa5f23t': 145, 'aalkyt2rnm': 242, 'memalukan': 2378, 'memilukan': 2428, 'rzymro5ca2': 3868, 'eks': 1262, 'vof5aooodv': 4686, 'ioi0ksxqxj': 1621, 'ak2eznejqd': 298, 'dibisniskan': 990, 'sakitnya': 3887, 'disini': 1136, 'lfq4revrqt': 2182, 'keseteraan': 1972, 'kzhyobcplo': 2111, 'grat': 1414, '0pzr8mqxbp': 14, '5eekjwkab4': 152, 'r16pwmvgkh': 3751, 'fh3hogimak': 1315, '3ibvgjeyvo': 108, 'd1kmjc3tcs': 879, 'ffc0ehdtp8': 1313, 'varasec1': 4671, 'markotop': 2309, '281fiq5d36': 76, 's7wco8rk00': 3871, 'beleid': 547, 'zlm6ixfs1s': 4991, 'mon': 2769, 'droen': 1211, 'pinter': 3618, 'vy6z7kitfm': 4691, 'bb52e0ln0j': 520, '0fjfizgw28': 11, 'responnya': 3808, 'qxvm634npx': 3745, 'ucap': 4560, 'xa0jokowi': 4834, 'sekretariat': 4007, 'sbjvtgonya': 3929, 'kelancaran': 1878, 'laknat': 2124, 'vdgloupsia': 4675, 'bsa': 761, 'b5muknbyl2': 446, 'prilaku': 3668, 'provokatif': 3695, 'ntentu': 3135, 'ncuma': 2890, 'nlibas': 3015, 'syofxm4yqq': 4254, '5zlset5ifx': 159, '2ffjyxsakx': 81, 'xa0lewat': 4837, '19di': 43, 'yustinus': 4969, 'prastowo': 3662, 'dk37q4opqe': 1181, 'cuci': 866, 'phisycal': 3607, 'distancing': 1144, 'y0pbozda5q': 4924, 'bz4ju8rqi6': 794, 'wjbkvvrz2r': 4746, '8y6ognyodj': 218, 'aminn': 347, 'wo1whvlzrn': 4756, 'eowmlptbg9': 1281, 'ktykxx79xn': 2094, 'berlasung': 634, '0etuo5namj': 10, 'gba3pnyvtp': 1367, 'tetep': 4436, 'iski3aslbj': 1630, 'pemiliknya': 3391, 'cun': 870, 'lan': 2132, '43': 117, 'pldrz3rowr': 3625, 'k6zbfwzx8s': 1758, 'hyzaxjf6vi': 1530, 'nasalkan': 2855, 'rambu': 3769, 'tetpkan': 4437, 'lsc7dulvt0': 2220, 'percayakan': 3524, 'penyelesaian': 3505, 'silang': 4119, 'mjtkhpvpsx': 2750, 'senantiasa': 4046, 'sebisa': 3961, 'hindari': 1492, 'keramaian': 1939, '4omfnsoi2z': 131, 'ay32spv1hj': 437, '5md4gfsu5d': 154, 'yl8ll69iz6': 4949, 'vs9mbiebrc': 4688, 'eidbrh8m49': 1254, 'aeaocbig8g': 274, 'ddhozn9gm8': 915, 'xzkxwnrb4i': 4923, 'cerdaslah': 825, 'psdqkosbud': 3698, 'wctqmm81rf': 4732, 'otonomi': 3246, 'ymgsrkpzpj': 4951, 'degan': 920, 'sistim': 4135, 'menyejahterakan': 2672, '4x69iozqw0': 137, 'ndiperlakukan': 2907, '4qhcaqvzwx': 133, 'dijual': 1030, '2vwe0kjozh': 87, 'beasiswa': 527, 'cu0v1l4tb2': 865, 'bersembunyi': 660, 'arti': 406, 'khilaf': 2009, 'kelemahan': 1881, 'mendidik': 2496, '01vvx13j5u': 2, 'fzt0iftctx': 1342, 'kedepannya': 1853, 'berterima': 672, 'kmux3hqywj': 2025, 'pelosok': 3355, 'nsehat': 3113, 'bdqajarej4': 524, 'tergantikan': 4357, 'lfmvzfwmkr': 2181, 'ibtsx9kqz6': 1536, 'ooswu97lwr': 3220, 'tvrzdaexbz': 4549, '9zsq6pywmz': 235, 'penyusupan': 3510, 'unjuk': 4621, 'kerusuhan': 1953, 'xvhmbfpbru': 4921, 'wbzzspcvxj': 4731, 'perkuat': 3552, 'kwtsemr7th': 2108, 'menghapusnya': 2578, 'iomenvkbzl': 1622, 'kokoh': 2031, 'pertiwi': 3586, '1uoaifdkyt': 50, 'qp4vytpipk': 3739, 'ulglm4mcfs': 4585, 'produksinya': 3677, 'diekspor': 1007, 'nol': 3054, 'uhagucxgij': 4573, 'uzxk7tqgfp': 4665, 'boleh2': 742, 'basa1gwhxt': 509, 'zkvejwphqn': 4987, 'raja': 3762, 'nharga': 2943, 'njaya': 2974, 'qmpbfdnjij': 3737, '0fpnyil9kf': 12, 'fnlfgo0xtu': 1325, 'dspq2i2wyu': 1214, 'sipil': 4128, 'l5l7npegif': 2113, 'pelanggar': 3350, 'blom': 728, '7xe41ysvhx': 193, 'wahhhh': 4703, 'udh': 4567, 'gausa': 1365, 'dehhh': 922, 'membikin': 2412, 'tcpgwljyt4': 4292, 'jog8iknpqs': 1730, 'cbuuvuexxs': 813, 'udzp7ufcet': 4568, 'psh5antyiv': 3699, 'q0idmurxwk': 3725, 'aggap': 279, 'lap': 2140, 'dw8wmyq5wc': 1227, 'disupport': 1147, 'didemo': 1000, 'terbantu': 4331, 'sprti': 4175, 'skrng': 4142, 'nmakasi': 3022, 'xhz7huj1zu': 4910, 'marketing': 2306, 'jgan': 1717, 'diandalkan': 959, 'nberkembang': 2877, 'rhttps': 3815, 'nsenang': 3122, 'diumumkan': 1171, 'maret': 2302, 'membengkak': 2403, 'pekerjanya': 3343, 'belak': 543, 'kemauan': 1897, 'kebanggaanmu': 1828, 'wawanc': 4728, 'hapus': 1463, 'nib': 2953, 'tunggal': 4538, 'nmimpi': 3043, 'takan': 4266, 'terulang': 4424, 'bersinergi': 664, 'lhhxfonp92': 2184, 'nakan': 2837, 'terintegrasi': 4370, 'antri': 385, 'ampuh': 349, 'nseenaknya': 3112, 'npemberian': 3081, 'ndilindungin': 2904, 'ditingkatkan': 1164, 'memperlakukan': 2442, 'ditentukan': 1158, 'darussalam': 909, 'kerangka': 1940, 'asean': 414, 'lppom': 2219, 'hitung': 1497, 'oke': 3199, 'riset': 3827, 'kopid': 2067, 'dibeli': 980, 'lasso': 2147, 'bahagianya': 460, 'ibu': 1537, 'ambarwati': 340, 'srihanna': 4181, 'salatiga': 3892, '350': 101, '3kxftdpaxy': 109, 'krg': 2085, 'memberatkan': 2406, 'wpnkccifx8': 4761, 'trznkvw2a5': 4516, 'krtm1meb6u': 2092, 'terberdayakan': 4338, 'bboijpngjv': 521, 'qymwiptnol': 3747, 'mendonasikan': 2499, 'akunnya': 323, 'diposting': 1107, 'n2tmpi7dwx': 2825, 'memakainya': 2376, 'h6tnrew5ra': 1437, 'pengunjungnya': 3472, 'membeludak': 2402, 'membicarakan': 2411, 'temannya': 4310, 'penasaran': 3408, 'mencoba': 2479, 'mengundang': 2601, 'xhrroxdmsh': 4909, 'y3mifanuc2': 4925, 's8z6lg0bp5': 3872, 'omni': 3209, 'bus': 785, 'terlahir': 4383, 'luhurnya': 2227, 'kecelakaan': 1847, 'jkk': 1726, 'kematian': 1896, 'jkm': 1727, 'tua': 4523, 'jht': 1721, 'pensiun': 3488, 'moz3c8calh': 2774, 'nzryvwsnte': 3179, 'bc96agfxxb': 523, '2xyg4uyanj': 90, 'jph': 1737, '2hhuglyxiy': 83, 'p9dwwtbmfa': 3257, 'zlczpfaare': 4989, 'x0fkyvqlik': 4766, 'yjsp8tkjn1': 4946, 'gcmwcar5ty': 1369, '4n5spqlfd3': 129, 'ndiperketat': 2906, '1oslkpi2q8': 46, 'isges2y2yr': 1627, 'zlii838xbl': 4990, 'nmana': 3023, 'izinnya': 1654, 'j9cu0qavhv': 1658, 'cyphkjtwmk': 876, 'ncc': 2885, 'ohm42qdymf': 3196, '73d6jdt98m': 180, 'uz2wafdr2m': 4663, 'iifacc4hxe': 1549, 'fckl1ehzcj': 1311, 'fwtgmr6rtx': 1340, 'gtprtc4wty': 1419, 'buruhnya': 783, 'hlggbahvrv': 1499, 'sodkada28z': 4157, 'mrnqnftuwi': 2779, 'pembangkangan': 3363, 'upaya2': 4633, 'diperjuangan': 1093, '4akz6txze1': 125, '85yesqs8dh': 205, 'diperkuat': 1096, 'seyw9d4zzn': 4095, '8prmdrkdet': 216, 'zxmgzmiujk': 4997, 'selamatkan': 4018, 'c74jbtrd1f': 798, 'aksxmtdfir': 317, 'gxop6xqsr9': 1433, 'ti9adzq2co': 4445, 'pmermkrzfx': 3632, 'yphrwvsx97': 4962, 'vmscqja2sy': 4685, 'ueolihbdbe': 4569, 'gcmwca9v20': 1368, 'mtrhpxxw8c': 2781, 'ew0jvl4dht': 1290, '1pc5mw0rsu': 47, 'd8u2xhbnmj': 883, 'd0qswhjyi5': 878, 'a5zch0cflx': 241, 'fmbnqym0th': 1323, 'mantappp': 2298, 'youydwjgob': 4959, 'permudahan': 3565, 'jeew4hjbwn': 1704, 'lybhyyyqlb': 2234, 'xac': 4884, 'tmxnygex50': 4477, 'gctaroqh37': 1370, 'sebesar2nya': 3960, 'dikancah': 1034, 'mdd8mxb7he': 2343, 'xpnn0zcrx0': 4916, 'gwbgpchbqn': 1432, 'uw18kntore': 4662, 'owgtxbunmg': 3251, '2tptwiwop0': 85, 'lbup7ivh3k': 2159, 'berkontribusi': 627, 'rhznnpu7vj': 3816, 'kpu': 2082, '7yntkae0ux': 197, 'sn90n6qwsm': 4147, 'sbqib64fzi': 3933, 'ugrhztqxvs': 4571, '34h7aplmaa': 99, 'tolol': 4490, 'cx8jqsbtef': 875, '4jungzuh4a': 126, 'mantappkann': 2297, 'r8yeasc47r': 3754, '0ds0drj791': 9, '7xrzpxldjy': 195, '83l0he12nv': 202, 'suburnya': 4210, 'f0tkdf2yhv': 1295, 'e18j0s8yqu': 1238, '1mvdmbmguj': 45, 'jrgl6bfczr': 1739, 'nmjdx8gw0o': 3045, 'rfosozfosq': 3811, '65geojcpma': 166, 'ikuti': 1562, 'h1byc36iia': 1435, 'rck9wvkiyt': 3785, 'kerakusan': 1937, 'keserakahan': 1970, 'penentangan': 3434, 'lesuhnya': 2179, '9hd9tl9vfy': 227, 'qltrwz9lyu': 3736, 'menyuburkan': 2682, 'sni': 4149, 'haid': 1444, 'hamil': 1458, 'menyepelekan': 2677, 'dituangkan': 1166, 'kualitas': 2096, 'yppfbxatio': 4963, 'soifftpgif': 4160, 'scy4jblq7y': 3938, 'santri': 3911, 'middheqbpk': 2719, '1umrigvxqd': 49, 'biologi': 714, 'molekular': 2766, 'eijkman': 1255, 'ndihrpkan': 2902, 'ams5wfrt3l': 351, 'e3cybfpdm4': 1240, 'infak': 1585, 'sedekah': 3971, 'solusinya': 4164, 'sbn7b45u8o': 3932, 'asoaiasi': 422, 'gn1hgnhprr': 1401, 'pjdo6oyby3': 3623, 'dimuat': 1073, 'dn0oessjqx': 1192, 'menangkap': 2469, 'rujukan': 3858, 'integratif': 1609, 'komprehensif': 2040, 'teruskan': 4426, 'ixsbgugz2i': 1647, 'yvap6cmmxl': 4971, 'lnurm65rbz': 2206, 'penganggur': 3446, 'nc4ekx3ohi': 2883, 'mengibaratkan': 2589, 'domestik': 1197, '45yiv4dw1x': 119, 'sertai': 4074, 'e0ts1pkmvu': 1237, 'mengklaim': 2596, 'keberlangsungan': 1838, 'togjedakgt': 4481, 'xoqoz1fouf': 4913, 'minimum': 2739, 'ditindak': 1163, 'dinas': 1078, '2wansvjekx': 88, 'cd1hdg60js': 815, 'nd8ybw15xy': 2891, 'tito': 4473, 'karnavian': 1796, 'tx9oxwfd0c': 4551, 'mendagri': 2488, 'pip': 3621, 'kemenkeu': 1901, 'menyambut': 2664, 'termuat': 4393, 'ucjjjm2cak': 4562, 'pemodalan': 3394, 'dihapus': 1016, 'iyrd954pvg': 1650, 'x9iu3tpjqq': 4804, 'rpasal': 3851, 'rindonesia': 3823, 'snjgtsyweu': 4150, 'tokoh': 4484, 'kegaduhan': 1858, 'muka': 2796, 'wurcwnxc5d': 4765, 'pengerat': 3455, 'f4cjemrbp9': 1297, 'rupanya': 3862, 'ixpyujfabr': 1646, 'abis': 249, 'qohpgqzpcm': 3738, 'merelokasi': 2699, 'perusahaannya': 3594, 'nmungkin': 3048, 'futwo1zvx3': 1339, 'tumpeng': 4537, 'xrjlzzwklx': 4918, 'gumr0juoiw': 1427, '9wmlxqy2lp': 233, 'mahalnya': 2256, 'menjanjikan': 2631, 'rdxlla6pso': 3786, 'minsuga56471559': 2740, 'soa': 4152, '3dm9ql3wm0': 105, 'diakses': 955, 'internet': 1613, 'sidang': 4114, 'peta': 3602, 'menetapkan': 2520, 'one': 3217, 'map': 2301, 'policy': 3643, 'pesisir': 3601, 'pulau': 3708, 'bjzcywbpdh': 722, 'dxcghiwwaj': 1231, 'kduaclhzow': 1819, '8k7s76z6cs': 213, 'nkondisi': 3002, 'nmembangkitkan': 3032, 'khya41dfxx': 2012, 'kbicgr0o6o': 1817, 'duacjrhzvd': 1217, 'dipercepat': 1091, 'tczyw36gkp': 4293, 'nantisipasi': 2851, 'diapresiasi': 963, 'dwu9mhi8tt': 1230, 'zzdua3qhwh': 4999, 'modtidjpav': 2763, 'bfm2ahzj95': 690, 'limru7dkmr': 2193, 'berskala': 665, 'memungut': 2458, 'penerbit': 3438, 'y9n5y6i7mk': 4927, 'bqpuo8xopy': 752, 'v6ros6wpdp': 4667, 'ny9ye8ncnw': 3161, 'njitu': 2978, 'upcwa2mnzp': 4634, 'ketelusuran': 1983, 'nberkaca': 2875, 'lplxtdd46n': 2218, 'hv5ra5cnan': 1525, '6wop0d5wzy': 174, 'invyfhuh06': 1620, 'vbxiqi7gih': 4672, 'yfuufqbjcj': 4942, 'xaewajohys': 4890, 'dgdsgemvob': 945, '7d898smjmo': 185, 'lltsxaytpi': 2203, 'pembeli': 3367, 'terimbas': 4368, 'qe6avftfyw': 3731, '8onae5vyic': 215, 'dilirik': 1062, 'qfp1q8qqeo': 3732, 'mx9lbaxsg3': 2816, 'xt9opdlntz': 4920, 'rb6xpcwafx': 3781, 'dhp6ec9j77': 948, 'hy9rlv5qlu': 1527, 'fmnbeotpdw': 1324, 'nlangkah': 3009, 'pgdmpwrico': 3606, 'hkbws1xxtg': 1498, 'ped28qbrmt': 3331, 'rtrw': 3855, 'kywvw7htre': 2109, 'butkt817fw': 786, 'apyfcdv4yn': 398, 'kcnfwougmt': 1818, '5pydfrg5n0': 155, 't5jsnkh1er': 4256, 'u1wjdhgvm4': 4552, 'ul9j6ziste': 4582, 'b892n38op7': 447, 'os8bkmuf1p': 3242, 'ykmm5mdqph': 4948, 'cvkyeulig4': 874, 'bumdes': 776, 'mxurslucio': 2817, '102': 21, '1zyfyecxpt': 53, 'menular': 2649, 'coktmsd0zb': 851, 'nydcecugwb': 3168, 'ofda9itkr9': 3189, 'iu00hmnuug': 1640, 'ie4eoop5jq': 1542, 'nzop1ljc5i': 3178, 'r57wcptt8h': 3752, 'w5ukhatjh0': 4693, 'xdayqm21tl': 4903, 'qcyu26ydwg': 3730, 'kaa3v7m5ul': 1760, 'bagusnya': 459, 'pendataan': 3422, 'tersentralistik': 4410, 'm314w0bdht': 2242, 'sqkxr2wryy': 4177, '0jdu9f6mjg': 13, '5bvawhnhj4': 150, 'nql38wkxwa': 3098, 'q5uoum6waw': 3726, 'adt9b2iilq': 272, '4pxcj9jxew': 132, 'yeqbosxvvk': 4941, 'xwhvt4o8zq': 4922, '2xvpin3aqb': 89, 'yommlvlgcq': 4955, 'z2bloc9zbv': 4975, '0tcf1gvo0h': 17, 'uhav2jtdjh': 4574, 'c3snpxyu9n': 797, 'yzgwgzujew': 4974, 'i9rhwsgwzk': 1532, 'dilibatkan': 1057, 'fatwanya': 1309, 'm7gyq30peg': 2243, 'xsos5swss9': 4919, 'cup4kmmysh': 871, 'ihgonydwo7': 1547, 'megl2x4l98': 2347, 'q0aodjr1a3': 3724, 'peruntukan': 3592, 'perhutanan': 3537, 'keadilan': 1822, 'mengakui': 2530, 'vxea66dn8p': 4690, 'terdorong': 4355, 'akvkdqsiv4': 324, 'sebanyak2nya': 3952, 'pe84f8sddz': 3329, '0qhlnb0apm': 15, 'ilpv7rygvp': 1564, 'd3jddoff5j': 881, '3v2k7succb': 112, 'p3irxwtrkb': 3253, 'mv1dzltbau': 2811, 'p3vsbxom56': 3254, 'tb2fiwxnci': 4291, 'hutmlejlsa': 1524, 'pendapatan': 3421, 'baiknya': 469, 'terkelola': 4379, 'lapanagan': 2142, 'nloua45snd': 3018, 'diperlakukan': 1097, 'dipersulit': 1103, 'dmcpb26zr2': 1189, '5tqval6uql': 158, '2fcz9sfzek': 80, '6saawbqdcr': 173, 'yvgyxln2fq': 4972, 'pakaimasker': 3271, 'cucitangan': 867, 'jagajarak': 1664, 'azy2unddca': 443, 'ide': 1538, 'cemerlang': 819, '05bxwv5zem': 8, 'nperlu': 3088, '2s9gxgvvl6': 84, 'cj2iusylst': 842, 'sbblwlqv05': 3928, 'xc2ugxdfxw': 4902, 'cipt': 836, 'zladp4fqgf': 4988, 'diartikan': 965, '7k0dxyzho2': 191, 'ylokzi2ine': 4950, '4uzf8nobiy': 135, 'z8uqcpxmvv': 4977, 'qxtz3wsthg': 3744, 'extu4g01tt': 1292, '422kpbjfri': 116, 'zb7now9gt6': 4980, 'pxbyuytncm': 3722, 'didesa': 1002, 'tersebar': 4406, 'f4wxz1dfjb': 1298, '51k7rpf3le': 141, 'fbpchrl5r2': 1310, '1ato7pqtri': 44, 'gryd4j0oek': 1418, 'oaddyhsbyg': 3180, 'perlunya': 3560, 'gh8o3ji7mp': 1390, '6ayyapmynd': 171, 'ido2z2oqy0': 1541, 'jstaenk8ni': 1740, 'dzpndsuvyb': 1235, 'ezuugqlxay': 1294, 'j8utxlr9ob': 1657, 'perekpresi': 3533, '5t0hndmj9w': 156, 'residen': 3805, 'kejam': 1869, 'fxnbvsdw1s': 1341, '7e4vkvzbkj': 187, 'dqet83twfc': 1205, 'ditutup': 1169, 'blt': 730, 'bpum': 751, 'mengecek': 2547, 'statusnya': 4191, 'x93': 4787, 'lz8vk4f1d6': 2236, 'disiplinlakukan3m': 1139, 'kerjadarirumah': 1949, 'indonesiasehat': 1583, 'minggupagi': 2735, 'jagakesehatan': 1665, 'minggurebahan': 2736, 'vhcplpb94c': 4677, 'hxzkm1smon': 1526, 'zvamu1daxe': 4995, 'ifyej1kdzr': 1545, 'xdwxxts3nj': 4904, 'fre0q4iamo': 1334, 'bbs8nzcwmi': 522, '9qq8y2zzhr': 229}\n"
     ]
    }
   ],
   "source": [
    "Count_vect = CountVectorizer(max_features=5000)\n",
    "Count_vect.fit(data['Tweets'])\n",
    "Train_X_Count = Count_vect.transform(Train_X)\n",
    "Test_X_Count = Count_vect.transform(Test_X)\n",
    "print(Count_vect.vocabulary_)"
   ]
  },
  {
   "cell_type": "markdown",
   "metadata": {
    "id": "oh7F5fLlOmxg"
   },
   "source": [
    "# Melakukan Klasifikasi dari Sentiment \"Positif\" & \"Negatif\" pada Data Training & Testing"
   ]
  },
  {
   "cell_type": "code",
   "execution_count": 17,
   "metadata": {
    "id": "5r7oa2im48sW",
    "outputId": "3e1595cd-e60e-4fcf-dcbc-c843f6b2ecc8"
   },
   "outputs": [
    {
     "name": "stdout",
     "output_type": "stream",
     "text": [
      "SVM Accuracy Score ->  65.34954407294833\n"
     ]
    }
   ],
   "source": [
    "# Classifier - Algorithm - SVM\n",
    "# fit the training dataset on the classifier\n",
    "SVM = svm.SVC(C=1.0, kernel='linear', degree=3, gamma='auto')\n",
    "SVM.fit(Train_X_Count,Train_Y)\n",
    "# predict the labels on validation dataset\n",
    "predictions_SVM = SVM.predict(Test_X_Count)\n",
    "# Use accuracy_score function to get the accuracy\n",
    "print(\"SVM Accuracy Score -> \",accuracy_score(predictions_SVM, Test_Y)*100)"
   ]
  },
  {
   "cell_type": "markdown",
   "metadata": {
    "id": "x5n7X2YiOyp6"
   },
   "source": [
    "# Melihat Persentase isi Kolom Sentiment \"Positif\" & Negatif"
   ]
  },
  {
   "cell_type": "code",
   "execution_count": null,
   "metadata": {
    "id": "s5oCWu7V48sY",
    "outputId": "45993ff0-9eba-43ed-e870-f83d47c0bc54"
   },
   "outputs": [
    {
     "data": {
      "image/png": "[encoded data removed]",
      "text/plain": [
       "<Figure size 432x288 with 1 Axes>"
      ]
     },
     "metadata": {
      "image/png": {
       "height": 231,
       "width": 349
      },
      "tags": []
     },
     "output_type": "display_data"
    }
   ],
   "source": [
    "import pandas as pd\n",
    "import matplotlib.pyplot as plt\n",
    "\n",
    "\n",
    "from_twitter_predicted = pd.read_csv(\"DatasetCrawlingTwitter.csv\")\n",
    "from_twitter_predicted.columns = ['Tanggal', 'Tweets', 'ID', 'Screen Name', 'Banyak Retweet', 'Source', 'Retweet Status', 'Hashtags', 'Sentiment', 'Positif', 'Negatif']\n",
    "labels = 'positif', 'negatif'\n",
    "sizes = [len(from_twitter_predicted[from_twitter_predicted['Sentiment'] == \"positif\"]), len(from_twitter_predicted[from_twitter_predicted['Sentiment'] == \"negatif\"])]\n",
    "colors = ['lightgreen', 'red']\n",
    "# Plot\n",
    "plt.pie(sizes, labels=labels, colors=colors,autopct='%1.1f%%', shadow=True, startangle=90)\n",
    "plt.legend()\n",
    "plt.axis('equal')\n",
    "plt.show()"
   ]
  }
 ],
 "metadata": {
  "colab": {
   "collapsed_sections": [],
   "name": "Codig Sentiment Analysis UMKM (FIX).ipynb",
   "provenance": []
  },
  "kernelspec": {
   "display_name": "Python 3",
   "language": "python",
   "name": "python3"
  },
  "language_info": {
   "codemirror_mode": {
    "name": "ipython",
    "version": 3
   },
   "file_extension": ".py",
   "mimetype": "text/x-python",
   "name": "python",
   "nbconvert_exporter": "python",
   "pygments_lexer": "ipython3",
   "version": "3.8.3"
  }
 },
 "nbformat": 4,
 "nbformat_minor": 1
}
